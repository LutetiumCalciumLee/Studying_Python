{
  "nbformat": 4,
  "nbformat_minor": 0,
  "metadata": {
    "colab": {
      "provenance": []
    },
    "kernelspec": {
      "name": "python3",
      "display_name": "Python 3"
    },
    "language_info": {
      "name": "python"
    }
  },
  "cells": [
    {
      "cell_type": "code",
      "source": [
        "#101\n",
        "  #bool"
      ],
      "metadata": {
        "id": "sjk7uFEyzN9o"
      },
      "execution_count": null,
      "outputs": []
    },
    {
      "cell_type": "code",
      "source": [
        "#102\n",
        "print(3 == 5)"
      ],
      "metadata": {
        "colab": {
          "base_uri": "https://localhost:8080/"
        },
        "id": "LtdCmkH3zOCw",
        "outputId": "5e18d2f9-02a2-41d2-86ef-0485facf254e"
      },
      "execution_count": null,
      "outputs": [
        {
          "output_type": "stream",
          "name": "stdout",
          "text": [
            "False\n"
          ]
        }
      ]
    },
    {
      "cell_type": "code",
      "source": [
        "#103\n",
        "print(3 < 5)"
      ],
      "metadata": {
        "colab": {
          "base_uri": "https://localhost:8080/"
        },
        "id": "tjzg37hlzOHg",
        "outputId": "9b462e73-a74b-43da-f877-167d0f00f400"
      },
      "execution_count": null,
      "outputs": [
        {
          "output_type": "stream",
          "name": "stdout",
          "text": [
            "True\n"
          ]
        }
      ]
    },
    {
      "cell_type": "code",
      "source": [
        "#104\n",
        "x = 4\n",
        "print(1 < x < 5)"
      ],
      "metadata": {
        "colab": {
          "base_uri": "https://localhost:8080/"
        },
        "id": "3kHA1EK68B_g",
        "outputId": "a9b6645c-5f2a-48a8-a50a-42a75c8000a1"
      },
      "execution_count": null,
      "outputs": [
        {
          "output_type": "stream",
          "name": "stdout",
          "text": [
            "True\n"
          ]
        }
      ]
    },
    {
      "cell_type": "code",
      "source": [
        "#105\n",
        "print ((3 == 3) and (4 != 3))"
      ],
      "metadata": {
        "colab": {
          "base_uri": "https://localhost:8080/"
        },
        "id": "1uhYc2E78CCX",
        "outputId": "7ff39a3b-24b1-4f56-bf92-6aef0ec453df"
      },
      "execution_count": null,
      "outputs": [
        {
          "output_type": "stream",
          "name": "stdout",
          "text": [
            "True\n"
          ]
        }
      ]
    },
    {
      "cell_type": "code",
      "source": [
        "#106\n",
        "  #print(3 => 4)\n",
        "  #\"=>\"은 없는 연산자"
      ],
      "metadata": {
        "id": "K5-M90qx8CLO"
      },
      "execution_count": null,
      "outputs": []
    },
    {
      "cell_type": "code",
      "source": [
        "#107\n",
        "if 4 < 3:               #False\n",
        "    print(\"Hello World\")\n",
        "    #print가 안됨"
      ],
      "metadata": {
        "id": "6uklMtXw8COg"
      },
      "execution_count": null,
      "outputs": []
    },
    {
      "cell_type": "code",
      "source": [
        "#108\n",
        "if 4 < 3:                #False\n",
        "    print(\"Hello World.\")\n",
        "else:\n",
        "    print(\"Hi, there.\")"
      ],
      "metadata": {
        "colab": {
          "base_uri": "https://localhost:8080/"
        },
        "id": "LmcjfZA48CRm",
        "outputId": "3c0e0013-06b3-4ccf-b4fc-225028d8b9d7"
      },
      "execution_count": null,
      "outputs": [
        {
          "output_type": "stream",
          "name": "stdout",
          "text": [
            "Hi, there.\n"
          ]
        }
      ]
    },
    {
      "cell_type": "code",
      "source": [
        "#109\n",
        "if True :\n",
        "    print (\"1\")\n",
        "    print (\"2\")\n",
        "else :\n",
        "    print(\"3\")\n",
        "print(\"4\")      #이건 그냥 조건에 관련없이 print"
      ],
      "metadata": {
        "colab": {
          "base_uri": "https://localhost:8080/"
        },
        "id": "RFWg4Fhg8CY-",
        "outputId": "17077f67-05ba-45fe-b77b-c881b41da372"
      },
      "execution_count": null,
      "outputs": [
        {
          "output_type": "stream",
          "name": "stdout",
          "text": [
            "1\n",
            "2\n",
            "4\n"
          ]
        }
      ]
    },
    {
      "cell_type": "code",
      "source": [
        "#110\n",
        "if True :\n",
        "    if False:\n",
        "        print(\"1\")\n",
        "        print(\"2\")\n",
        "    else:\n",
        "        print(\"3\")\n",
        "else :\n",
        "    print(\"4\")\n",
        "print(\"5\")"
      ],
      "metadata": {
        "id": "klkHiZ-L9Y8v",
        "outputId": "6df9285c-f68f-449e-8051-70d6807804bb",
        "colab": {
          "base_uri": "https://localhost:8080/"
        }
      },
      "execution_count": null,
      "outputs": [
        {
          "output_type": "stream",
          "name": "stdout",
          "text": [
            "3\n",
            "5\n"
          ]
        }
      ]
    },
    {
      "cell_type": "code",
      "source": [
        "#111\n",
        "a = input(\"입력하세요 : \")\n",
        "print(a*2)"
      ],
      "metadata": {
        "colab": {
          "base_uri": "https://localhost:8080/"
        },
        "id": "d_uERgtzT2gU",
        "outputId": "0737199b-eb3d-44a6-b022-318104d3b594"
      },
      "execution_count": null,
      "outputs": [
        {
          "output_type": "stream",
          "name": "stdout",
          "text": [
            "입력하세요 : 안녕하세요\n",
            "안녕하세요안녕하세요\n"
          ]
        }
      ]
    },
    {
      "cell_type": "code",
      "source": [
        "#112\n",
        "a=int(input(\"숫자를 입력하세요 : \"))\n",
        "print(a+10)"
      ],
      "metadata": {
        "colab": {
          "base_uri": "https://localhost:8080/"
        },
        "id": "mP3aKBnET2o7",
        "outputId": "203cabc7-ac52-45c9-ead9-0b3aeeb5cb14"
      },
      "execution_count": null,
      "outputs": [
        {
          "output_type": "stream",
          "name": "stdout",
          "text": [
            "숫자를 입력하세요 : 30\n",
            "40\n"
          ]
        }
      ]
    },
    {
      "cell_type": "code",
      "source": [
        "#113\n",
        "a = int(input(\" \"))\n",
        "if a%2==1 :\n",
        "  print(\"홀수\")\n",
        "else :\n",
        "  print(\"짝수\")"
      ],
      "metadata": {
        "colab": {
          "base_uri": "https://localhost:8080/"
        },
        "id": "NsdbGT3uT227",
        "outputId": "7763f771-4763-4c51-ef6c-58965413f921"
      },
      "execution_count": null,
      "outputs": [
        {
          "output_type": "stream",
          "name": "stdout",
          "text": [
            " 3\n",
            "홀수\n"
          ]
        }
      ]
    },
    {
      "cell_type": "code",
      "source": [
        "#114\n",
        "a = int(input(\"입력값 : \"))\n",
        "if a+20>255 :\n",
        "  print(255)\n",
        "else :\n",
        "  print(a+20)"
      ],
      "metadata": {
        "colab": {
          "base_uri": "https://localhost:8080/"
        },
        "id": "beDaCIvOT28r",
        "outputId": "0b5eaa41-a553-40f4-89c7-343fd77045ea"
      },
      "execution_count": null,
      "outputs": [
        {
          "output_type": "stream",
          "name": "stdout",
          "text": [
            "입력값 : 230\n",
            "250\n"
          ]
        }
      ]
    },
    {
      "cell_type": "code",
      "source": [
        "#115\n",
        "a = int(input(\"입력값 : \"))\n",
        "if a-20<0 :\n",
        "  print(0)\n",
        "elif a-20>255 :\n",
        "  print(255)\n",
        "else :\n",
        "  print(a-20)"
      ],
      "metadata": {
        "colab": {
          "base_uri": "https://localhost:8080/"
        },
        "id": "FQ9_hWcMT3EE",
        "outputId": "1a7ac174-d2af-4cb8-dfa1-e816241cecc3"
      },
      "execution_count": null,
      "outputs": [
        {
          "output_type": "stream",
          "name": "stdout",
          "text": [
            "입력값 : 300\n",
            "255\n"
          ]
        }
      ]
    },
    {
      "cell_type": "code",
      "source": [
        "#116\n",
        "a = input(\"현재시간 (12:34 이렇게 입력해주세요.) : \")\n",
        "if a[-2:]==\"00\" :\n",
        "  print(\"정각입니다.\")\n",
        "else :\n",
        "  print(\"정각이 아닙니다.\")"
      ],
      "metadata": {
        "colab": {
          "base_uri": "https://localhost:8080/"
        },
        "id": "VP4WLSWDT3JL",
        "outputId": "0b3ce45f-99e0-4242-e42d-419f7f600422"
      },
      "execution_count": null,
      "outputs": [
        {
          "output_type": "stream",
          "name": "stdout",
          "text": [
            "현재시간 (12:34 이렇게 입력해주세요.) : 12:34\n",
            "정각이 아닙니다.\n"
          ]
        }
      ]
    },
    {
      "cell_type": "code",
      "source": [
        "#117\n",
        "a = input(\"좋아하는 과일은? : \")\n",
        "b = [\"사과\", \"포도\", \"홍시\"]\n",
        "if a in b :\n",
        "  print(\"정답입니다.\")\n",
        "else :\n",
        "   print(\"오답입니다.\")"
      ],
      "metadata": {
        "colab": {
          "base_uri": "https://localhost:8080/"
        },
        "id": "u2D_zEYdT3PT",
        "outputId": "70ed8447-5e76-4347-b7b2-c0271e9ada4d"
      },
      "execution_count": null,
      "outputs": [
        {
          "output_type": "stream",
          "name": "stdout",
          "text": [
            "좋아하는 과일은? : 포도\n",
            "정답입니다.\n"
          ]
        }
      ]
    },
    {
      "cell_type": "code",
      "source": [
        "#118\n",
        "warn_investment_list = [\"Microsoft\", \"Google\", \"Naver\", \"Kakao\", \"SAMSUNG\", \"LG\"]\n",
        "a = input(\"종목명을 입력하세요 \")\n",
        "if a in warn_investment_list :\n",
        "  print(\"투자 경고 종목입니다.\")\n",
        "else :\n",
        "  print( \"투자 경고 종목이 아닙니다.\")"
      ],
      "metadata": {
        "colab": {
          "base_uri": "https://localhost:8080/"
        },
        "id": "DdyngfqdT3TN",
        "outputId": "ed2e50b6-de10-4647-ce30-511c55600906"
      },
      "execution_count": null,
      "outputs": [
        {
          "output_type": "stream",
          "name": "stdout",
          "text": [
            "종목명을 입력하세요 LG\n",
            "투자 경고 종목입니다.\n"
          ]
        }
      ]
    },
    {
      "cell_type": "code",
      "source": [
        "#119\n",
        "fruit = {\"봄\" : \"딸기\", \"여름\" : \"토마토\", \"가을\" : \"사과\"}\n",
        "a = input(\"제가좋아하는계절은 : \")\n",
        "if a in fruit:\n",
        "    print(\"정답입니다.\")\n",
        "else:\n",
        "    print(\"오답입니다.\")"
      ],
      "metadata": {
        "colab": {
          "base_uri": "https://localhost:8080/"
        },
        "id": "fJFApcgvT3Xj",
        "outputId": "a06d92c9-bf32-4726-bf9e-0d58e78c306b"
      },
      "execution_count": null,
      "outputs": [
        {
          "output_type": "stream",
          "name": "stdout",
          "text": [
            "제가좋아하는계절은 : 딸기\n",
            "오답입니다.\n"
          ]
        }
      ]
    },
    {
      "cell_type": "code",
      "source": [
        "#120\n",
        "fruit = {\"봄\" : \"딸기\", \"여름\" : \"토마토\", \"가을\" : \"사과\"}\n",
        "a = input(\"좋아하는 과일은? \")\n",
        "if a in fruit.values():\n",
        "    print(\"정답입니다.\")\n",
        "else:\n",
        "    print(\"오답입니다.\")"
      ],
      "metadata": {
        "colab": {
          "base_uri": "https://localhost:8080/"
        },
        "id": "KtSA0VdVT3aj",
        "outputId": "63a2105e-3e80-4bb2-a72d-4a7de0c0f4cf"
      },
      "execution_count": null,
      "outputs": [
        {
          "output_type": "stream",
          "name": "stdout",
          "text": [
            "좋아하는 과일은? 토마토\n",
            "정답입니다.\n"
          ]
        }
      ]
    },
    {
      "cell_type": "code",
      "source": [
        "#121\n",
        "a = input(\"알파벳 한 개를 입력하세요 : \")\n",
        "if a.islower() :\n",
        "  print(a.upper())\n",
        "else :\n",
        "  print(a.lower())"
      ],
      "metadata": {
        "colab": {
          "base_uri": "https://localhost:8080/"
        },
        "id": "4ocTawsDgNcu",
        "outputId": "12010b19-bd7c-4b42-bb19-990f01eca5b4"
      },
      "execution_count": null,
      "outputs": [
        {
          "output_type": "stream",
          "name": "stdout",
          "text": [
            "알파벳 한 개를 입력하세요 : T\n",
            "t\n"
          ]
        }
      ]
    },
    {
      "cell_type": "code",
      "source": [
        "#122\n",
        "a = int(input(\"score : \"))\n",
        "if 80<a<=100 :\n",
        "  print(\"grade is A\")\n",
        "elif 60<a<=80 :\n",
        "  print(\"grade is B\")\n",
        "elif 40<a<=60 :\n",
        "  print(\"grade is C\")\n",
        "elif 20<a<=40 :\n",
        "  print(\"grade is D\")\n",
        "else :\n",
        "  print (\"grade is E\")"
      ],
      "metadata": {
        "colab": {
          "base_uri": "https://localhost:8080/"
        },
        "id": "iQvsF_6ygNf-",
        "outputId": "e7eece10-ac74-4336-c386-eaad74701b5e"
      },
      "execution_count": null,
      "outputs": [
        {
          "output_type": "stream",
          "name": "stdout",
          "text": [
            "score : 62\n",
            "grade is B\n"
          ]
        }
      ]
    },
    {
      "cell_type": "code",
      "source": [
        "#123\n",
        "a = {\"달러\" : 1167 , \"엔\" : 10.96 , \"유로\" : 1268 , \"위안\" : 171}\n",
        "b = input(\"환율을 입력하세요 (예를 들어 '1 유로') : \")\n",
        "c,d = b.split()\n",
        "print(float(c)*a[d],\"원\")"
      ],
      "metadata": {
        "colab": {
          "base_uri": "https://localhost:8080/"
        },
        "id": "gXJigfclgNj2",
        "outputId": "1b6969e9-3e2c-4734-f2e8-0f2785b69c6e"
      },
      "execution_count": null,
      "outputs": [
        {
          "output_type": "stream",
          "name": "stdout",
          "text": [
            "환율을 입력하세요 (예를 들어 '1 유로') : 1000 엔\n",
            "10960.0 원\n"
          ]
        }
      ]
    },
    {
      "cell_type": "code",
      "source": [
        "#124\n",
        "a = int(input(\"number 1 : \"))\n",
        "b = int(input(\"number 2 : \"))\n",
        "c = int(input(\"number 3 : \"))\n",
        "\n",
        "print(max(a,b,c))"
      ],
      "metadata": {
        "colab": {
          "base_uri": "https://localhost:8080/"
        },
        "id": "7fQyuGq0gNnO",
        "outputId": "3ef688f2-e2e7-49b4-c997-187b8b5c425d"
      },
      "execution_count": null,
      "outputs": [
        {
          "output_type": "stream",
          "name": "stdout",
          "text": [
            "number 1 : 1\n",
            "number 2 : 3\n",
            "number 3 : 5\n",
            "5\n"
          ]
        }
      ]
    },
    {
      "cell_type": "code",
      "source": [
        "#125\n",
        "a = input(\"휴대전화 번호 입력: \")\n",
        "if a[0:3] == \"011\":\n",
        "  print(\"당신은 SKT 사용자입니다.\")\n",
        "elif a[0:3] == \"016\":\n",
        "  print(\"당신은 KT 사용자입니다.\")\n",
        "elif a[0:3] == \"019\":\n",
        "  print(\"당신은 LGU 사용자입니다.\")\n",
        "else :\n",
        "  print(\"당신은 알 수 없습니다.\")\n",
        "\n",
        "    #다른 방법\n",
        "n = input(\"휴대전화 번호 입력: \")\n",
        "m = n.split(\"-\")[0]\n",
        "if m == \"011\":\n",
        "  l = \"SKT\"\n",
        "elif m == \"016\":\n",
        "  l = \"KT\"\n",
        "elif m == \"019\":\n",
        "  l = \"LGU\"\n",
        "else :\n",
        "  l = \"알 수 없는\"\n",
        "\n",
        "print(f\"당신은 {l} 사용자입니다.\") #근데 이거는 '-' 입력을 해야만 함"
      ],
      "metadata": {
        "colab": {
          "base_uri": "https://localhost:8080/"
        },
        "id": "ND8tLKn-gNqG",
        "outputId": "e0dddcad-6188-4dc8-a51a-fb67d5f2eb44"
      },
      "execution_count": null,
      "outputs": [
        {
          "output_type": "stream",
          "name": "stdout",
          "text": [
            "휴대전화 번호 입력: 010-1111-2222\n",
            "당신은 알 수 없습니다.\n",
            "휴대전화 번호 입력: 011-3333-4444\n",
            "당신은 SKT 사용자입니다.\n"
          ]
        }
      ]
    },
    {
      "cell_type": "code",
      "source": [
        "#126\n",
        "a = input(\"우편번호를 입력하세요 : \")\n",
        "\n",
        "if a[0:2] in [\"010\",\"011\",\"012\"] :\n",
        "  print(\"강북구\")\n",
        "elif a[0:2] in [\"013\",\"014\",\"015\"] :\n",
        "  print(\"도봉구\")\n",
        "else :\n",
        "  print(\"노원구\")"
      ],
      "metadata": {
        "id": "yOnJngF1gNvf",
        "colab": {
          "base_uri": "https://localhost:8080/"
        },
        "outputId": "321476c7-92c1-4e9e-8631-aa217811146c"
      },
      "execution_count": null,
      "outputs": [
        {
          "output_type": "stream",
          "name": "stdout",
          "text": [
            "우편번호를 입력하세요 : 01333\n",
            "노원구\n"
          ]
        }
      ]
    },
    {
      "cell_type": "code",
      "source": [
        "#127\n",
        "a = input(\"주민등록번호 : \")\n",
        "\n",
        "if a[-7] == \"1\" or a[-7] == \"3\" :\n",
        "  print(\"남자입니다.\")\n",
        "elif a[-7] == \"2\" or a[-7] == \"4\" :\n",
        "  print(\"여자입니다.\")\n",
        "else :\n",
        "  print(\"다시 입력해주세요.\")"
      ],
      "metadata": {
        "id": "f6yhuU3IgN0e",
        "colab": {
          "base_uri": "https://localhost:8080/"
        },
        "outputId": "809b4358-615e-4fd0-96a8-6ad67aff3dfe"
      },
      "execution_count": null,
      "outputs": [
        {
          "output_type": "stream",
          "name": "stdout",
          "text": [
            "주민등록번호 : 010101-3030303\n",
            "남자입니다.\n"
          ]
        }
      ]
    },
    {
      "cell_type": "code",
      "source": [
        "#128\n",
        "a = input(\"주민등록번호 : \")\n",
        "b = [\"00\",\"01\",\"02\",\"03\",\"04\",\"05\",\"06\",\"07\",\"08\"]\n",
        "\n",
        "if a[-6:-4] in b :\n",
        "  print(\"서울입니다.\")\n",
        "else :\n",
        "  print(\"서울이 아닙니다.\")"
      ],
      "metadata": {
        "id": "u2LeUaTWgN5I",
        "colab": {
          "base_uri": "https://localhost:8080/"
        },
        "outputId": "272311ba-7e79-40ce-a8ea-d477b28c6ec9"
      },
      "execution_count": null,
      "outputs": [
        {
          "output_type": "stream",
          "name": "stdout",
          "text": [
            "주민등록번호 : 0909091234567\n",
            "서울이 아닙니다.\n"
          ]
        }
      ]
    },
    {
      "cell_type": "code",
      "source": [
        "#129\n",
        "a = input(\"주민등록번호 : \")\n",
        "b = int(a[0])*2 + int(a[1])*3 + int(a[2])*4 + int(a[3])*5 + \\\n",
        "  int(a[4])*6 + int(a[5])*7 + int(a[-7])*8 + int(a[-6])*9 + \\\n",
        "  int(a[-5])*2 + int(a[-4])*3 + int(a[-3])*4 + int(a[-2])*5\n",
        "c = 11-(b%11)\n",
        "d = str(c)\n",
        "if a[-1] == d[-1]:\n",
        "  print (\"유효한 주민번호입니다.\")\n",
        "else :\n",
        "  print (\"유효하지 않은 주민번호입니다.\")"
      ],
      "metadata": {
        "id": "My5NgyklgN_e",
        "colab": {
          "base_uri": "https://localhost:8080/"
        },
        "outputId": "c6fb03a3-b0e3-4871-c5a0-bb1e24979872"
      },
      "execution_count": null,
      "outputs": [
        {
          "output_type": "stream",
          "name": "stdout",
          "text": [
            "주민등록번호 : 9206261048311\n",
            "유효한 주민번호입니다.\n"
          ]
        }
      ]
    },
    {
      "cell_type": "code",
      "source": [
        "#130\n",
        "import requests\n",
        "btc = requests.get(\"https://api.bithumb.com/public/ticker/\").json()['data']\n",
        "\n",
        "변동폭 = float(btc['max_price']) - float(btc['min_price'])\n",
        "시가 = float(btc['opening_price'])\n",
        "최고가 = float(btc['max_price'])\n",
        "\n",
        "if (시가+변동폭) > 최고가:\n",
        "    print(\"상승장\")\n",
        "else:\n",
        "    print(\"하락장\")"
      ],
      "metadata": {
        "id": "1dEvGtkygOFu",
        "colab": {
          "base_uri": "https://localhost:8080/"
        },
        "outputId": "88c9da02-2881-4f66-963c-e7519cb21280"
      },
      "execution_count": null,
      "outputs": [
        {
          "output_type": "stream",
          "name": "stdout",
          "text": [
            "상승장\n"
          ]
        }
      ]
    },
    {
      "cell_type": "code",
      "source": [
        "#131\n",
        "과일 = [\"사과\", \"귤\", \"수박\"]\n",
        "for 변수 in 과일:\n",
        "    print(변수)"
      ],
      "metadata": {
        "colab": {
          "base_uri": "https://localhost:8080/"
        },
        "id": "1c8oooqnSmqY",
        "outputId": "d935756b-9ff6-4956-fe80-c9fc5e881909"
      },
      "execution_count": null,
      "outputs": [
        {
          "output_type": "stream",
          "name": "stdout",
          "text": [
            "사과\n",
            "귤\n",
            "수박\n"
          ]
        }
      ]
    },
    {
      "cell_type": "code",
      "source": [
        "#132\n",
        "과일 = [\"사과\", \"귤\", \"수박\"]\n",
        "for 변수 in 과일:\n",
        "  print(\"#####\")"
      ],
      "metadata": {
        "colab": {
          "base_uri": "https://localhost:8080/"
        },
        "id": "uC3uXnKaSmvs",
        "outputId": "d0f2024b-7c18-4d0c-813a-97fd70e3250b"
      },
      "execution_count": null,
      "outputs": [
        {
          "output_type": "stream",
          "name": "stdout",
          "text": [
            "#####\n",
            "#####\n",
            "#####\n"
          ]
        }
      ]
    },
    {
      "cell_type": "code",
      "source": [
        "#133\n",
        "print(\"A\")\n",
        "print(\"B\")\n",
        "print(\"C\")"
      ],
      "metadata": {
        "colab": {
          "base_uri": "https://localhost:8080/"
        },
        "id": "SdzGgLfVSm1a",
        "outputId": "c7fdbf61-af2b-4a27-bb09-58461d385fd9"
      },
      "execution_count": null,
      "outputs": [
        {
          "output_type": "stream",
          "name": "stdout",
          "text": [
            "A\n",
            "B\n",
            "C\n"
          ]
        }
      ]
    },
    {
      "cell_type": "code",
      "source": [
        "#134\n",
        "print(\"출력:\", \"A\")\n",
        "print(\"출력:\", \"B\")\n",
        "print(\"출력:\", \"C\")"
      ],
      "metadata": {
        "colab": {
          "base_uri": "https://localhost:8080/"
        },
        "id": "Y5WyAJg7Sm6i",
        "outputId": "61f404e6-df9d-4d2b-d0e2-9be7a63c45ee"
      },
      "execution_count": null,
      "outputs": [
        {
          "output_type": "stream",
          "name": "stdout",
          "text": [
            "출력: A\n",
            "출력: B\n",
            "출력: C\n"
          ]
        }
      ]
    },
    {
      "cell_type": "code",
      "source": [
        "#135\n",
        "변수 = \"A\"\n",
        "b = 변수.lower()\n",
        "print(\"변환:\", b)\n",
        "변수 = \"B\"\n",
        "b = 변수.lower()\n",
        "print(\"변환:\", b)\n",
        "변수 = \"C\"\n",
        "b = 변수.lower()\n",
        "print(\"변환:\", b)"
      ],
      "metadata": {
        "colab": {
          "base_uri": "https://localhost:8080/"
        },
        "id": "517g3QOtSnBr",
        "outputId": "5144fa8d-f3cd-4b63-f53d-53d82334e80d"
      },
      "execution_count": null,
      "outputs": [
        {
          "output_type": "stream",
          "name": "stdout",
          "text": [
            "변환: a\n",
            "변환: b\n",
            "변환: c\n"
          ]
        }
      ]
    },
    {
      "cell_type": "code",
      "source": [
        "#136\n",
        "v = [10,20,30]\n",
        "for i in v:\n",
        "  print(i)"
      ],
      "metadata": {
        "colab": {
          "base_uri": "https://localhost:8080/"
        },
        "id": "xtGuqYqzSnHl",
        "outputId": "4046c29e-13aa-4f7b-97f4-cfb03dea8ca1"
      },
      "execution_count": null,
      "outputs": [
        {
          "output_type": "stream",
          "name": "stdout",
          "text": [
            "10\n",
            "20\n",
            "30\n"
          ]
        }
      ]
    },
    {
      "cell_type": "code",
      "source": [
        "#137\n",
        "v = [10,20,30]\n",
        "for i in v:\n",
        "  print(i)"
      ],
      "metadata": {
        "id": "J3PRTAY2SnN1"
      },
      "execution_count": null,
      "outputs": []
    },
    {
      "cell_type": "code",
      "source": [
        "#138\n",
        "v = [10,20,30]\n",
        "for i in v:\n",
        "  print(\"-------\")"
      ],
      "metadata": {
        "colab": {
          "base_uri": "https://localhost:8080/"
        },
        "id": "VUvNp5dJSnUD",
        "outputId": "adb485cb-995c-49f9-b744-e6e02e710d29"
      },
      "execution_count": null,
      "outputs": [
        {
          "output_type": "stream",
          "name": "stdout",
          "text": [
            "-------\n",
            "-------\n",
            "-------\n"
          ]
        }
      ]
    },
    {
      "cell_type": "code",
      "source": [
        "#139\n",
        "v = [\"++++\",10,20,30]\n",
        "for i in v:\n",
        "  print(i)"
      ],
      "metadata": {
        "colab": {
          "base_uri": "https://localhost:8080/"
        },
        "id": "6GsH08g-SnaT",
        "outputId": "124f0659-45c5-4952-cc2d-097d826bfde3"
      },
      "execution_count": null,
      "outputs": [
        {
          "output_type": "stream",
          "name": "stdout",
          "text": [
            "++++\n",
            "10\n",
            "20\n",
            "30\n"
          ]
        }
      ]
    },
    {
      "cell_type": "code",
      "source": [
        "#140\n",
        "for i in [1,2,3,4]:\n",
        "  print(\"-------\")"
      ],
      "metadata": {
        "colab": {
          "base_uri": "https://localhost:8080/"
        },
        "id": "U6toolyjSngW",
        "outputId": "2415cd9f-f61e-4de9-a6b9-f971564e4ab4"
      },
      "execution_count": null,
      "outputs": [
        {
          "output_type": "stream",
          "name": "stdout",
          "text": [
            "-------\n",
            "-------\n",
            "-------\n",
            "-------\n"
          ]
        }
      ]
    },
    {
      "cell_type": "code",
      "source": [
        "#141\n",
        "L = [100,200,300]\n",
        "for P in L:\n",
        "  print(P + 10)"
      ],
      "metadata": {
        "colab": {
          "base_uri": "https://localhost:8080/"
        },
        "id": "bgpzjAcDXxNN",
        "outputId": "d53db380-7e74-44a6-d83b-1b4cc713f01f"
      },
      "execution_count": null,
      "outputs": [
        {
          "output_type": "stream",
          "name": "stdout",
          "text": [
            "110\n",
            "210\n",
            "310\n"
          ]
        }
      ]
    },
    {
      "cell_type": "code",
      "source": [
        "#142\n",
        "L = [\"김밥\", \"라면\", \"튀김\"]\n",
        "for M in L:\n",
        "  print(\"오늘의 메뉴 : \", M)"
      ],
      "metadata": {
        "colab": {
          "base_uri": "https://localhost:8080/"
        },
        "id": "bgTLwr7sXxS4",
        "outputId": "5041f02a-6422-4988-a81f-7938ca27889d"
      },
      "execution_count": null,
      "outputs": [
        {
          "output_type": "stream",
          "name": "stdout",
          "text": [
            "오늘의 메뉴 :  김밥\n",
            "오늘의 메뉴 :  라면\n",
            "오늘의 메뉴 :  튀김\n"
          ]
        }
      ]
    },
    {
      "cell_type": "code",
      "source": [
        "#143\n",
        "L = [\"SK하이닉스\",\"삼성전자\",\"LG전자\"]\n",
        "for i in L:\n",
        "  print(len(i))"
      ],
      "metadata": {
        "colab": {
          "base_uri": "https://localhost:8080/"
        },
        "id": "uJmnlMPzXxYV",
        "outputId": "25d7a81b-3be8-4c55-8551-2a8c2c31e0e2"
      },
      "execution_count": null,
      "outputs": [
        {
          "output_type": "stream",
          "name": "stdout",
          "text": [
            "6\n",
            "4\n",
            "4\n"
          ]
        }
      ]
    },
    {
      "cell_type": "code",
      "source": [
        "#144\n",
        "L = ['dog', 'cat', 'parrot']\n",
        "for i in L:\n",
        "  print(i,len(i))"
      ],
      "metadata": {
        "colab": {
          "base_uri": "https://localhost:8080/"
        },
        "id": "pkqyIB4NXxch",
        "outputId": "0baac98c-7626-450e-b836-9be4e8a7dda9"
      },
      "execution_count": null,
      "outputs": [
        {
          "output_type": "stream",
          "name": "stdout",
          "text": [
            "dog 3\n",
            "cat 3\n",
            "parrot 6\n"
          ]
        }
      ]
    },
    {
      "cell_type": "code",
      "source": [
        "#145\n",
        "L = ['dog', 'cat', 'parrot']\n",
        "for i in L:\n",
        "  print(i[0])"
      ],
      "metadata": {
        "colab": {
          "base_uri": "https://localhost:8080/"
        },
        "id": "TKnYmu0ZXxhO",
        "outputId": "0068ca2c-a2d0-4e97-9a85-7eee25214981"
      },
      "execution_count": null,
      "outputs": [
        {
          "output_type": "stream",
          "name": "stdout",
          "text": [
            "d\n",
            "c\n",
            "p\n"
          ]
        }
      ]
    },
    {
      "cell_type": "code",
      "source": [
        "#146\n",
        "L = [1, 2, 3]\n",
        "for i in L:\n",
        "  print(\"3 x\", i )"
      ],
      "metadata": {
        "colab": {
          "base_uri": "https://localhost:8080/"
        },
        "id": "0JJ1oA08XxlF",
        "outputId": "706af8eb-0274-4abb-dbb7-3d9c29d5c3e2"
      },
      "execution_count": null,
      "outputs": [
        {
          "output_type": "stream",
          "name": "stdout",
          "text": [
            "3 x 1\n",
            "3 x 2\n",
            "3 x 3\n"
          ]
        }
      ]
    },
    {
      "cell_type": "code",
      "source": [
        "#147\n",
        "L = [1, 2, 3]\n",
        "for i in L:\n",
        "  print(\"3 x\", i , \"=\" , 3*i)"
      ],
      "metadata": {
        "colab": {
          "base_uri": "https://localhost:8080/"
        },
        "id": "Ag4zEx5VXxpw",
        "outputId": "330c4350-570a-4b25-a6b5-fe4ab5f91e60"
      },
      "execution_count": null,
      "outputs": [
        {
          "output_type": "stream",
          "name": "stdout",
          "text": [
            "3 x 1 = 3\n",
            "3 x 2 = 6\n",
            "3 x 3 = 9\n"
          ]
        }
      ]
    },
    {
      "cell_type": "code",
      "source": [
        "#148\n",
        "L = [\"가\", \"나\", \"다\", \"라\"]\n",
        "for i in L[1:]:\n",
        "  print(i)"
      ],
      "metadata": {
        "colab": {
          "base_uri": "https://localhost:8080/"
        },
        "id": "vgzfNqngXxuU",
        "outputId": "e63cd1a7-f55d-4c10-b831-0939ef93cbb0"
      },
      "execution_count": null,
      "outputs": [
        {
          "output_type": "stream",
          "name": "stdout",
          "text": [
            "나\n",
            "다\n",
            "라\n"
          ]
        }
      ]
    },
    {
      "cell_type": "code",
      "source": [
        "#149\n",
        "L = [\"가\", \"나\", \"다\", \"라\"]\n",
        "for i in L[::2]:\n",
        "  print(i)"
      ],
      "metadata": {
        "colab": {
          "base_uri": "https://localhost:8080/"
        },
        "id": "_XSJt6oYXxy5",
        "outputId": "ed9d5209-e1d9-49c9-e7e4-13e08f5f9fc5"
      },
      "execution_count": null,
      "outputs": [
        {
          "output_type": "stream",
          "name": "stdout",
          "text": [
            "가\n",
            "다\n"
          ]
        }
      ]
    },
    {
      "cell_type": "code",
      "source": [
        "#150\n",
        "L = [\"가\", \"나\", \"다\", \"라\"]\n",
        "for i in L[::-1]:\n",
        "  print(i)"
      ],
      "metadata": {
        "colab": {
          "base_uri": "https://localhost:8080/"
        },
        "id": "nRtrDLzSXx2j",
        "outputId": "5e3bb729-d609-492d-de31-afef6997b8e5"
      },
      "execution_count": null,
      "outputs": [
        {
          "output_type": "stream",
          "name": "stdout",
          "text": [
            "라\n",
            "다\n",
            "나\n",
            "가\n"
          ]
        }
      ]
    }
  ]
}