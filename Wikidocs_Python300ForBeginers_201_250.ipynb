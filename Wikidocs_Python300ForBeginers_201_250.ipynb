{
  "nbformat": 4,
  "nbformat_minor": 0,
  "metadata": {
    "colab": {
      "provenance": []
    },
    "kernelspec": {
      "name": "python3",
      "display_name": "Python 3"
    },
    "language_info": {
      "name": "python"
    }
  },
  "cells": [
    {
      "cell_type": "code",
      "execution_count": 1,
      "metadata": {
        "id": "kFAcfu6uWSCh"
      },
      "outputs": [],
      "source": [
        "#201\n",
        "def print_coin():\n",
        "  print(\"비트코인\")"
      ]
    },
    {
      "cell_type": "code",
      "source": [
        "#202\n",
        "print_coin()"
      ],
      "metadata": {
        "colab": {
          "base_uri": "https://localhost:8080/"
        },
        "id": "NalaZWfujF61",
        "outputId": "4cdb49ad-ddaf-4004-f386-bd69b231a77a"
      },
      "execution_count": 2,
      "outputs": [
        {
          "output_type": "stream",
          "name": "stdout",
          "text": [
            "비트코인\n"
          ]
        }
      ]
    },
    {
      "cell_type": "code",
      "source": [
        "#203\n",
        "for i in range(10):\n",
        "  print_coin()"
      ],
      "metadata": {
        "colab": {
          "base_uri": "https://localhost:8080/"
        },
        "id": "Q8M-g0ZSjNDB",
        "outputId": "02a5d48e-d57d-4654-9db5-e24086ef8dcf"
      },
      "execution_count": 3,
      "outputs": [
        {
          "output_type": "stream",
          "name": "stdout",
          "text": [
            "비트코인\n",
            "비트코인\n",
            "비트코인\n",
            "비트코인\n",
            "비트코인\n",
            "비트코인\n",
            "비트코인\n",
            "비트코인\n",
            "비트코인\n",
            "비트코인\n"
          ]
        }
      ]
    },
    {
      "cell_type": "code",
      "source": [
        "#204\n",
        "def print_coins():\n",
        "  for i in range(10):\n",
        "    print(\"비트코인\")"
      ],
      "metadata": {
        "id": "HTxAIjhDjhTf"
      },
      "execution_count": 4,
      "outputs": []
    },
    {
      "cell_type": "code",
      "source": [
        "#205\n",
        "  #함수를 먼저 선언 해야 함"
      ],
      "metadata": {
        "id": "ojwWjN-rj2xk"
      },
      "execution_count": 5,
      "outputs": []
    },
    {
      "cell_type": "code",
      "source": [
        "#206\n",
        "def message():\n",
        "  print(\"A\")\n",
        "  print(\"B\")\n",
        "\n",
        "message()\n",
        "print(\"C\")\n",
        "message()"
      ],
      "metadata": {
        "colab": {
          "base_uri": "https://localhost:8080/"
        },
        "id": "NS5QvkyckBdN",
        "outputId": "a9baf299-8ab5-4ae3-a0e8-9677ab74bf5e"
      },
      "execution_count": 6,
      "outputs": [
        {
          "output_type": "stream",
          "name": "stdout",
          "text": [
            "A\n",
            "B\n",
            "C\n",
            "A\n",
            "B\n"
          ]
        }
      ]
    },
    {
      "cell_type": "code",
      "source": [
        "#207\n",
        "print(\"A\")\n",
        "\n",
        "def message() :\n",
        "    print(\"B\")\n",
        "\n",
        "print(\"C\")\n",
        "message()"
      ],
      "metadata": {
        "colab": {
          "base_uri": "https://localhost:8080/"
        },
        "id": "w_kB8Q1XkVLJ",
        "outputId": "845dcc49-75d8-499e-c5c2-891cffe7b6a3"
      },
      "execution_count": 7,
      "outputs": [
        {
          "output_type": "stream",
          "name": "stdout",
          "text": [
            "A\n",
            "C\n",
            "B\n"
          ]
        }
      ]
    },
    {
      "cell_type": "code",
      "source": [
        "#208\n",
        "print(\"A\")\n",
        "def message1() :\n",
        "    print(\"B\")\n",
        "print(\"C\")\n",
        "def message2() :\n",
        "    print(\"D\")\n",
        "message1()\n",
        "print(\"E\")\n",
        "message2()"
      ],
      "metadata": {
        "colab": {
          "base_uri": "https://localhost:8080/"
        },
        "id": "7gQH1cjskzag",
        "outputId": "d884f152-51e4-4a0e-ed76-7a4158d36d46"
      },
      "execution_count": 8,
      "outputs": [
        {
          "output_type": "stream",
          "name": "stdout",
          "text": [
            "A\n",
            "C\n",
            "B\n",
            "E\n",
            "D\n"
          ]
        }
      ]
    },
    {
      "cell_type": "code",
      "source": [
        "#209\n",
        "def message1():\n",
        "    print(\"A\")\n",
        "\n",
        "def message2():\n",
        "    print(\"B\")\n",
        "    message1()\n",
        "\n",
        "message2()"
      ],
      "metadata": {
        "colab": {
          "base_uri": "https://localhost:8080/"
        },
        "id": "5mYz1Unck4UP",
        "outputId": "919fcb34-a071-4c84-8915-d6cec16ab0a3"
      },
      "execution_count": 9,
      "outputs": [
        {
          "output_type": "stream",
          "name": "stdout",
          "text": [
            "B\n",
            "A\n"
          ]
        }
      ]
    },
    {
      "cell_type": "code",
      "source": [
        "#210\n",
        "def message1():\n",
        "    print(\"A\")\n",
        "\n",
        "def message2():\n",
        "    print(\"B\")\n",
        "\n",
        "def message3():\n",
        "    for i in range (3) :\n",
        "        message2()\n",
        "        print(\"C\")\n",
        "    message1()\n",
        "\n",
        "message3()"
      ],
      "metadata": {
        "colab": {
          "base_uri": "https://localhost:8080/"
        },
        "id": "syZ7AJa1k9Yo",
        "outputId": "65acabf6-450c-4164-c8fc-a0cb80a6577f"
      },
      "execution_count": 10,
      "outputs": [
        {
          "output_type": "stream",
          "name": "stdout",
          "text": [
            "B\n",
            "C\n",
            "B\n",
            "C\n",
            "B\n",
            "C\n",
            "A\n"
          ]
        }
      ]
    },
    {
      "cell_type": "code",
      "source": [
        "#211\n",
        "def 함수(문자열) :\n",
        "    print(문자열)\n",
        "\n",
        "함수(\"안녕\")\n",
        "함수(\"Hi\")"
      ],
      "metadata": {
        "colab": {
          "base_uri": "https://localhost:8080/"
        },
        "id": "3eKO3fMjlQad",
        "outputId": "1e69b21f-dae5-415f-cbfc-a7f14631b66d"
      },
      "execution_count": 11,
      "outputs": [
        {
          "output_type": "stream",
          "name": "stdout",
          "text": [
            "안녕\n",
            "Hi\n"
          ]
        }
      ]
    },
    {
      "cell_type": "code",
      "source": [
        "#212\n",
        "def 함수(a, b) :\n",
        "    print(a + b)\n",
        "\n",
        "함수(3, 4)\n",
        "함수(7, 8)"
      ],
      "metadata": {
        "colab": {
          "base_uri": "https://localhost:8080/"
        },
        "id": "oQzaiRrflaY4",
        "outputId": "b55e1db8-b785-4342-b07c-86446e317c42"
      },
      "execution_count": 12,
      "outputs": [
        {
          "output_type": "stream",
          "name": "stdout",
          "text": [
            "7\n",
            "15\n"
          ]
        }
      ]
    },
    {
      "cell_type": "code",
      "source": [
        "#213\n",
        "  #매개변수가 없기 때문"
      ],
      "metadata": {
        "id": "av5UUrnxldzY"
      },
      "execution_count": 13,
      "outputs": []
    },
    {
      "cell_type": "code",
      "source": [
        "#214\n",
        "  #문자열과 정수는 연산이 안됨"
      ],
      "metadata": {
        "id": "DjkhLSYHl2Rb"
      },
      "execution_count": 14,
      "outputs": []
    },
    {
      "cell_type": "code",
      "source": [
        "#215\n",
        "def print_with_smile(s):\n",
        "  print(s,\":D\")"
      ],
      "metadata": {
        "id": "qoSIBgojl_bA"
      },
      "execution_count": 15,
      "outputs": []
    },
    {
      "cell_type": "code",
      "source": [
        "#216\n",
        "print_with_smile(\"안녕하세요\")"
      ],
      "metadata": {
        "colab": {
          "base_uri": "https://localhost:8080/"
        },
        "id": "1CLdippJmU-a",
        "outputId": "fad447d4-e8d3-42b7-ddca-132ba2a4cb4b"
      },
      "execution_count": 16,
      "outputs": [
        {
          "output_type": "stream",
          "name": "stdout",
          "text": [
            "안녕하세요 :D\n"
          ]
        }
      ]
    },
    {
      "cell_type": "code",
      "source": [
        "#217\n",
        "def print_upper_price(p):\n",
        "  print(p * 1.3)"
      ],
      "metadata": {
        "id": "OJvnt_RImkmg"
      },
      "execution_count": 17,
      "outputs": []
    },
    {
      "cell_type": "code",
      "source": [
        "#218\n",
        "def print_sum(a,b):\n",
        "  print(a+b)"
      ],
      "metadata": {
        "id": "K75OfKlumvoF"
      },
      "execution_count": 18,
      "outputs": []
    },
    {
      "cell_type": "code",
      "source": [
        "#219\n",
        "def print_arithmetic_operation(a,b):\n",
        "  print(a,\"+\",b,\"=\",a+b)\n",
        "  print(a,\"-\",b,\"=\",a-b)\n",
        "  print(a,\"x\",b,\"=\",a*b)\n",
        "  print(a,\"/\",b,\"=\",a/b)\n",
        "\n",
        "print_arithmetic_operation(3, 4)"
      ],
      "metadata": {
        "colab": {
          "base_uri": "https://localhost:8080/"
        },
        "id": "2mXEygtfm7sZ",
        "outputId": "f19bf781-db44-4c0c-82d4-c24b8ae819c3"
      },
      "execution_count": 19,
      "outputs": [
        {
          "output_type": "stream",
          "name": "stdout",
          "text": [
            "3 + 4 = 7\n",
            "3 - 4 = -1\n",
            "3 x 4 = 12\n",
            "3 / 4 = 0.75\n"
          ]
        }
      ]
    },
    {
      "cell_type": "code",
      "source": [
        "#220\n",
        "def print_max(a,b,c):\n",
        "    if a > b and a > c :\n",
        "      print(a)\n",
        "    if b > a and b > c :\n",
        "      print(b)\n",
        "    if c > b and c > a :\n",
        "      print(c)\n",
        "\n",
        "print_max(9,5,1)\n",
        "\n",
        "  #또는\n",
        "max(9,1,5)"
      ],
      "metadata": {
        "colab": {
          "base_uri": "https://localhost:8080/"
        },
        "id": "r4cOEoE8n2I9",
        "outputId": "715881b5-2905-4822-9f69-c4fbee462996"
      },
      "execution_count": 20,
      "outputs": [
        {
          "output_type": "stream",
          "name": "stdout",
          "text": [
            "9\n"
          ]
        },
        {
          "output_type": "execute_result",
          "data": {
            "text/plain": [
              "9"
            ]
          },
          "metadata": {},
          "execution_count": 20
        }
      ]
    },
    {
      "cell_type": "code",
      "source": [
        "#221\n",
        "def print_reverse(s):\n",
        "  print(s[::-1])\n",
        "\n",
        "print_reverse(\"Python\")\n",
        "print_reverse(\"hello\")"
      ],
      "metadata": {
        "id": "zosREdc_oyjn",
        "colab": {
          "base_uri": "https://localhost:8080/"
        },
        "outputId": "b9bcd66e-c8f7-4e20-c154-c4a84dc6a364"
      },
      "execution_count": 21,
      "outputs": [
        {
          "output_type": "stream",
          "name": "stdout",
          "text": [
            "nohtyP\n",
            "olleh\n"
          ]
        }
      ]
    },
    {
      "cell_type": "code",
      "source": [
        "#222\n",
        "def print_score(s):\n",
        "  print(sum(s)/len(s))\n",
        "\n",
        "print_score([1,2,3])"
      ],
      "metadata": {
        "colab": {
          "base_uri": "https://localhost:8080/"
        },
        "id": "bamR5D91rVa3",
        "outputId": "cc808199-7f04-49a2-f0d8-7d1faf88458f"
      },
      "execution_count": 22,
      "outputs": [
        {
          "output_type": "stream",
          "name": "stdout",
          "text": [
            "2.0\n"
          ]
        }
      ]
    },
    {
      "cell_type": "code",
      "source": [
        "#223\n",
        "def print_even(e):\n",
        "  for i in e:\n",
        "    if i%2 == 0 :\n",
        "      print(i)\n",
        "\n",
        "print_even ([1, 3, 2, 10, 12, 11, 15])"
      ],
      "metadata": {
        "colab": {
          "base_uri": "https://localhost:8080/"
        },
        "id": "pgYYKDbesoqg",
        "outputId": "4bcc4786-ade9-47c8-ef0c-9169a3ab5d61"
      },
      "execution_count": 23,
      "outputs": [
        {
          "output_type": "stream",
          "name": "stdout",
          "text": [
            "2\n",
            "10\n",
            "12\n"
          ]
        }
      ]
    },
    {
      "cell_type": "code",
      "source": [
        "#224\n",
        "def print_keys(d):\n",
        "  for k in d.keys():\n",
        "    print(k)\n",
        "\n",
        "print_keys ({\"이름\":\"김말똥\", \"나이\":30, \"성별\":0})\n"
      ],
      "metadata": {
        "colab": {
          "base_uri": "https://localhost:8080/"
        },
        "id": "4SaWu9Twsomi",
        "outputId": "63a9268f-9732-46d3-a0bd-8c395902f8a9"
      },
      "execution_count": 24,
      "outputs": [
        {
          "output_type": "stream",
          "name": "stdout",
          "text": [
            "이름\n",
            "나이\n",
            "성별\n"
          ]
        }
      ]
    },
    {
      "cell_type": "code",
      "source": [
        "#225\n",
        "my_dict = {\"10/26\" : [100, 130, 100, 100],\n",
        "           \"10/27\" : [10, 12, 10, 11]}\n",
        "def print_value_by_key(d,k):\n",
        "    print(d[k])\n",
        "\n",
        "print_value_by_key  (my_dict, \"10/26\")"
      ],
      "metadata": {
        "colab": {
          "base_uri": "https://localhost:8080/"
        },
        "id": "4QdQnBvRsojF",
        "outputId": "efc7b977-e379-4b40-bd53-8c4de3f8333f"
      },
      "execution_count": 25,
      "outputs": [
        {
          "output_type": "stream",
          "name": "stdout",
          "text": [
            "[100, 130, 100, 100]\n"
          ]
        }
      ]
    },
    {
      "cell_type": "code",
      "source": [
        "#226\n",
        "def print_5xn(s):\n",
        "  a = int(len(s) / 5)\n",
        "  for i in range(a+1):\n",
        "    print(s[5*i:5*(i+1)])\n",
        "\n",
        "print_5xn(\"아이엠어보이유알어걸\")"
      ],
      "metadata": {
        "colab": {
          "base_uri": "https://localhost:8080/"
        },
        "id": "7uyHYHVJsnrK",
        "outputId": "8f720eb6-344a-4b53-d771-ad54742b3865"
      },
      "execution_count": 26,
      "outputs": [
        {
          "output_type": "stream",
          "name": "stdout",
          "text": [
            "아이엠어보\n",
            "이유알어걸\n",
            "\n"
          ]
        }
      ]
    },
    {
      "cell_type": "code",
      "source": [
        "#227\n",
        "def print_mxn(s,n):\n",
        "  a = int(len(s)/n)\n",
        "  for i in range(a+1):\n",
        "    print(s[n*i:n*(i+1)])\n",
        "\n",
        "print_mxn(\"아이엠어보이유알어걸\", 3)"
      ],
      "metadata": {
        "colab": {
          "base_uri": "https://localhost:8080/"
        },
        "id": "alLbfm8VsnoS",
        "outputId": "395ec9d8-b3ae-456c-af30-5ca1abeb3590"
      },
      "execution_count": 27,
      "outputs": [
        {
          "output_type": "stream",
          "name": "stdout",
          "text": [
            "아이엠\n",
            "어보이\n",
            "유알어\n",
            "걸\n"
          ]
        }
      ]
    },
    {
      "cell_type": "code",
      "source": [
        "#228\n",
        "def calc_monthly_salary(s):\n",
        "  a = int(s / 12)\n",
        "  print(a)\n",
        "\n",
        "calc_monthly_salary(12000000)"
      ],
      "metadata": {
        "colab": {
          "base_uri": "https://localhost:8080/"
        },
        "id": "3IUWrY0asnhr",
        "outputId": "e77792b3-fe40-4108-a8e1-9709e535de18"
      },
      "execution_count": 28,
      "outputs": [
        {
          "output_type": "stream",
          "name": "stdout",
          "text": [
            "1000000\n"
          ]
        }
      ]
    },
    {
      "cell_type": "code",
      "source": [
        "#229\n",
        "def my_print (a, b) :\n",
        "    print(\"왼쪽:\", a)\n",
        "    print(\"오른쪽:\", b)\n",
        "\n",
        "my_print(a=100, b=200)"
      ],
      "metadata": {
        "colab": {
          "base_uri": "https://localhost:8080/"
        },
        "id": "tFGiYuXosne-",
        "outputId": "7e4ef053-926d-470a-eb48-4f61b323f5d4"
      },
      "execution_count": 29,
      "outputs": [
        {
          "output_type": "stream",
          "name": "stdout",
          "text": [
            "왼쪽: 100\n",
            "오른쪽: 200\n"
          ]
        }
      ]
    },
    {
      "cell_type": "code",
      "source": [
        "#230\n",
        "def my_print (a, b) :\n",
        "    print(\"왼쪽:\", a)\n",
        "    print(\"오른쪽:\", b)\n",
        "\n",
        "my_print(b=100, a=200)"
      ],
      "metadata": {
        "colab": {
          "base_uri": "https://localhost:8080/"
        },
        "id": "Cn1YZEYKsnNH",
        "outputId": "08171d53-f503-45d8-8284-921c2cf0237b"
      },
      "execution_count": 30,
      "outputs": [
        {
          "output_type": "stream",
          "name": "stdout",
          "text": [
            "왼쪽: 200\n",
            "오른쪽: 100\n"
          ]
        }
      ]
    },
    {
      "cell_type": "code",
      "source": [
        "#231\n",
        "def n_plus_1 (n) :\n",
        "    result = n + 1\n",
        "\n",
        "n_plus_1(3)\n",
        "print (result) #오류나는것 맞음"
      ],
      "metadata": {
        "id": "tKJyTPLO5Afh"
      },
      "execution_count": null,
      "outputs": []
    },
    {
      "cell_type": "code",
      "source": [
        "#232\n",
        "def make_url(s):\n",
        "  print(\"www.\",s,\".com\")\n",
        "\n",
        "make_url(\"naver\")"
      ],
      "metadata": {
        "id": "URcEjFn65AbW"
      },
      "execution_count": null,
      "outputs": []
    },
    {
      "cell_type": "code",
      "source": [
        "#233\n",
        "def make_list(s):\n",
        "  l = []\n",
        "  for i in s:\n",
        "    l.append(i)\n",
        "  return l\n",
        "\n",
        "make_list(\"abcd\")"
      ],
      "metadata": {
        "id": "safYUP0Z5AWW"
      },
      "execution_count": null,
      "outputs": []
    },
    {
      "cell_type": "code",
      "source": [
        "#234\n",
        "def pickup_even(n):\n",
        "  l=[]\n",
        "  for i in n:\n",
        "    if i%2  == 0:\n",
        "      l.append(i)\n",
        "  return l\n",
        "\n",
        "pickup_even([3, 4, 5, 6, 7, 8])"
      ],
      "metadata": {
        "id": "5OLjcbVW5ARh"
      },
      "execution_count": null,
      "outputs": []
    },
    {
      "cell_type": "code",
      "source": [
        "#235\n",
        "def convert_int(s):\n",
        "  a = int(s.replace(\",\",\"\"))\n",
        "  print(a)\n",
        "\n",
        "convert_int(\"1,234,567\")"
      ],
      "metadata": {
        "id": "EhKpDo935AM0"
      },
      "execution_count": null,
      "outputs": []
    },
    {
      "cell_type": "code",
      "source": [
        "#236\n",
        "def 함수(num) :\n",
        "    return num + 4\n",
        "\n",
        "a = 함수(10)\n",
        "b = 함수(a)\n",
        "c = 함수(b)\n",
        "print(c)"
      ],
      "metadata": {
        "id": "bd_piMdK5AIW"
      },
      "execution_count": null,
      "outputs": []
    },
    {
      "cell_type": "code",
      "source": [
        "#237\n",
        "def 함수(num) :\n",
        "    return num + 4\n",
        "\n",
        "c = 함수(함수(함수(10)))\n",
        "print(c)"
      ],
      "metadata": {
        "id": "861jGlb95ACv"
      },
      "execution_count": null,
      "outputs": []
    },
    {
      "cell_type": "code",
      "source": [
        "#238\n",
        "def 함수1(num) :\n",
        "    return num + 4\n",
        "\n",
        "def 함수2(num) :\n",
        "    return num * 10\n",
        "\n",
        "a = 함수1(10)\n",
        "c = 함수2(a)\n",
        "print(c)"
      ],
      "metadata": {
        "id": "OQEh5T4P4_9v"
      },
      "execution_count": null,
      "outputs": []
    },
    {
      "cell_type": "code",
      "source": [
        "#239\n",
        "def 함수1(num) :\n",
        "    return num + 4\n",
        "\n",
        "def 함수2(num) :\n",
        "    num = num + 2\n",
        "    return 함수1(num)\n",
        "\n",
        "c = 함수2(10)\n",
        "print(c)"
      ],
      "metadata": {
        "id": "PeSTq-mR4_35"
      },
      "execution_count": null,
      "outputs": []
    },
    {
      "cell_type": "code",
      "source": [
        "#240\n",
        "def 함수0(num) :\n",
        "    return num * 2\n",
        "\n",
        "def 함수1(num) :\n",
        "    return 함수0(num + 2)\n",
        "\n",
        "def 함수2(num) :\n",
        "    num = num + 10\n",
        "    return 함수1(num)\n",
        "\n",
        "c = 함수2(2)\n",
        "print(c)"
      ],
      "metadata": {
        "id": "MR845z2J48-z"
      },
      "execution_count": null,
      "outputs": []
    },
    {
      "cell_type": "code",
      "source": [
        "#241\n",
        "import datetime\n",
        "now = datetime.datetime.now()\n",
        "print(now)"
      ],
      "metadata": {
        "id": "MA8E3Es-8fcH"
      },
      "execution_count": null,
      "outputs": []
    },
    {
      "cell_type": "code",
      "source": [
        "#242\n",
        "import datetime\n",
        "\n",
        "now = datetime.datetime.now()\n",
        "print(now, type(now))"
      ],
      "metadata": {
        "id": "VzW0HZvP8fXr"
      },
      "execution_count": null,
      "outputs": []
    },
    {
      "cell_type": "code",
      "source": [
        "#243\n",
        "import datetime\n",
        "\n",
        "now = datetime.datetime.now()\n",
        "\n",
        "for day in range(5, 0, -1):\n",
        "    delta = datetime.timedelta(days=day)\n",
        "    date = now - delta\n",
        "    print(date)"
      ],
      "metadata": {
        "id": "h0rOU0qh8fSd"
      },
      "execution_count": null,
      "outputs": []
    },
    {
      "cell_type": "code",
      "source": [
        "#244\n",
        "import datetime\n",
        "\n",
        "now = datetime.datetime.now()\n",
        "print(now.strftime(\"%H:%M:%S\"))"
      ],
      "metadata": {
        "id": "pYeth3m18fOf"
      },
      "execution_count": null,
      "outputs": []
    },
    {
      "cell_type": "code",
      "source": [
        "#245\n",
        "import datetime\n",
        "\n",
        "day = \"2020-05-04\"\n",
        "ret = datetime.datetime.strptime(day, \"%Y-%m-%d\")\n",
        "print(ret, type(ret))"
      ],
      "metadata": {
        "id": "1cm42O2t8fJx"
      },
      "execution_count": null,
      "outputs": []
    },
    {
      "cell_type": "code",
      "source": [
        "#246\n",
        "import time\n",
        "import datetime\n",
        "\n",
        "while True:\n",
        "    now = datetime.datetime.now()\n",
        "    print(now)\n",
        "    time.sleep(1)"
      ],
      "metadata": {
        "id": "FNZ4-0Ry8fE-"
      },
      "execution_count": null,
      "outputs": []
    },
    {
      "cell_type": "code",
      "source": [
        "#247\n",
        "  #모듈을 임포트하는 4가지 방식 :"
      ],
      "metadata": {
        "id": "6EUV97dT8e_b"
      },
      "execution_count": null,
      "outputs": []
    },
    {
      "cell_type": "code",
      "source": [
        "#248\n",
        "import os\n",
        "ret = os.getcwd()\n",
        "print(ret, type(ret))"
      ],
      "metadata": {
        "id": "NmDxbGFa8e56"
      },
      "execution_count": null,
      "outputs": []
    },
    {
      "cell_type": "code",
      "source": [
        "#249\n",
        "import os\n",
        "os.rename(\"C:/Users/hyunh/Desktop/before.txt\", \"C:/Users/hyunh/Desktop/after.txt\")"
      ],
      "metadata": {
        "id": "CuuJPdRM8ezn"
      },
      "execution_count": null,
      "outputs": []
    },
    {
      "cell_type": "code",
      "source": [
        "#250\n",
        "import numpy\n",
        "for i in numpy.arange(0, 5, 0.1):\n",
        "    print(i)"
      ],
      "metadata": {
        "id": "lsxNcth98es7"
      },
      "execution_count": null,
      "outputs": []
    }
  ]
}