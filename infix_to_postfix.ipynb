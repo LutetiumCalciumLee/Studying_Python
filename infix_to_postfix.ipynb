{
  "nbformat": 4,
  "nbformat_minor": 0,
  "metadata": {
    "colab": {
      "provenance": []
    },
    "kernelspec": {
      "name": "python3",
      "display_name": "Python 3"
    },
    "language_info": {
      "name": "python"
    }
  },
  "cells": [
    {
      "cell_type": "markdown",
      "source": [
        "중위표기 연산자를 후위표기 연산자로 바꾸기\n",
        "\n",
        "- 1st 단계\n",
        "- 숫자와 연산자를 콤마(,)로 구분해서 후위 표기 연산자로 입력\n",
        "- 입력받은 문자열을 각각 나눈다\n",
        "- 평소에 쓰던 중위표기 연산으로 print해서 표기\n",
        "- 후위표기 연산자도 같이 표기\n",
        "- 연산자가 나오면 앞에 입력한 두 수와 연산\n",
        "  (+ , - , * , / , ** , // , %)\n",
        "---------------------------------------------------\n",
        "- 2nd 단계\n",
        "- 숫자 3개 이상과 연산자 2개 입력받고\n",
        "- 연산 우선 순위도 고려\n",
        "---------------------------------------------------\n",
        "- 괄호가 나올 경우 : 3rd 단계에서"
      ],
      "metadata": {
        "id": "acMbpKHzexLH"
      }
    },
    {
      "cell_type": "code",
      "source": [
        "postfix = input(\"Enter the values and operators in postfix notation, separated by commas. \")\n",
        "postfix_sep = postfix.split(',')\n",
        "print(postfix_sep)"
      ],
      "metadata": {
        "id": "ZUEifOzjdiy_"
      },
      "execution_count": null,
      "outputs": []
    },
    {
      "cell_type": "code",
      "source": [
        "stack = []\n",
        "numbers = []\n",
        "operator = ['+','-','*','/','**','//','%']"
      ],
      "metadata": {
        "id": "ovfUZuekC7Vw"
      },
      "execution_count": null,
      "outputs": []
    },
    {
      "cell_type": "code",
      "source": [
        "for i in postfix_sep :\n",
        "  print(i)\n",
        "  if i in operator :\n",
        "    stack.append(i)\n",
        "  else :\n",
        "    numbers.append(i)"
      ],
      "metadata": {
        "id": "VPyCYEJ2ewmv"
      },
      "execution_count": null,
      "outputs": []
    },
    {
      "cell_type": "code",
      "source": [
        "print(stack)\n",
        "print(numbers)"
      ],
      "metadata": {
        "id": "60-wT1cP9mDu"
      },
      "execution_count": null,
      "outputs": []
    },
    {
      "cell_type": "code",
      "source": [],
      "metadata": {
        "id": "5s5v_nb4Fozo"
      },
      "execution_count": null,
      "outputs": []
    },
    {
      "cell_type": "code",
      "source": [
        "# 가장 기본적으로 숫자 2개와 연산자 1개를 받아서 연산 (1st)\n",
        "\n",
        "def postfix_step1():\n",
        "  postfix_1st = input(\"Enter the values and operators in postfix notation, separated by commas. \")\n",
        "  postfix_1st_sep = postfix_1st.split(',')\n",
        "  operator = ['+','-','*','/','**','//','%']\n",
        "  stack_1st = []\n",
        "  numbers_1st = []\n",
        "  for i1 in operator :\n",
        "    stack_1st.append(i1)\n",
        "  else :\n",
        "    numbers_1st.append(i1)\n",
        "  a1 = int(numbers_1st.pop())\n",
        "  b1 = int(numbers_1st.pop())\n",
        "  op1 = stack_1st.pop()\n",
        "  if op1 == '+' :\n",
        "    print(a1, '+', b1, '=', a1+b1)\n",
        "  elif op1 == '-' :\n",
        "    print(a1, '-', b1, '=', a1-b1)\n",
        "  elif op1 == '*' :\n",
        "    print(a1, 'x', b1, '=', a1*b1)\n",
        "  elif op1 == '/' :\n",
        "    print(a1, '÷', b1, '=', a1/b1)\n",
        "  elif op1 == '**' :\n",
        "    print(a1, '^', b1, '=', a1**b1)\n",
        "  elif op1 == '//' :\n",
        "    print(a1, '//', b1, '=', a1//b1)\n",
        "  elif op1 == '%' :\n",
        "    print(a1, '%', b1, '=', a1%b1)"
      ],
      "metadata": {
        "id": "gBZM7KtTg-Xg"
      },
      "execution_count": null,
      "outputs": []
    }
  ]
}