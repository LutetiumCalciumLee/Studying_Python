{
  "nbformat": 4,
  "nbformat_minor": 0,
  "metadata": {
    "colab": {
      "provenance": []
    },
    "kernelspec": {
      "name": "python3",
      "display_name": "Python 3"
    },
    "language_info": {
      "name": "python"
    }
  },
  "cells": [
    {
      "cell_type": "code",
      "execution_count": null,
      "metadata": {
        "id": "Aq_4-Q7PjfR9",
        "colab": {
          "base_uri": "https://localhost:8080/"
        },
        "outputId": "9f8e9d2b-c138-4eec-cdc5-e102b7cea58a"
      },
      "outputs": [
        {
          "output_type": "stream",
          "name": "stdout",
          "text": [
            "-20\n",
            "-3\n"
          ]
        }
      ],
      "source": [
        "#151\n",
        "a = [3, -20, -3, 44]\n",
        "for b in a:\n",
        "  if b<0 :\n",
        "    print(b)"
      ]
    },
    {
      "cell_type": "code",
      "source": [
        "#152\n",
        "a = [3, 100, 23, 44]\n",
        "for b in a:\n",
        "  if b%3 == 0:\n",
        "    print(b)"
      ],
      "metadata": {
        "id": "zWuatAmxjm8D",
        "colab": {
          "base_uri": "https://localhost:8080/"
        },
        "outputId": "ca92ac3b-27e8-4458-9032-3808f29f8cae"
      },
      "execution_count": null,
      "outputs": [
        {
          "output_type": "stream",
          "name": "stdout",
          "text": [
            "3\n"
          ]
        }
      ]
    },
    {
      "cell_type": "code",
      "source": [
        "#153\n",
        "a = [13, 21, 12, 14, 30, 18]\n",
        "for b in a:\n",
        "  if b%3 == 0 and b<20 :\n",
        "    print(b)"
      ],
      "metadata": {
        "id": "X-9fCgggjm-z",
        "colab": {
          "base_uri": "https://localhost:8080/"
        },
        "outputId": "2b08c8fa-c3b3-4864-8ea4-5f311285fc48"
      },
      "execution_count": null,
      "outputs": [
        {
          "output_type": "stream",
          "name": "stdout",
          "text": [
            "12\n",
            "18\n"
          ]
        }
      ]
    },
    {
      "cell_type": "code",
      "source": [
        "#154\n",
        "a= [\"I\", \"study\", \"python\", \"language\", \"!\"]\n",
        "for b in a:\n",
        "  if len(b) > 4 :\n",
        "    print(b)"
      ],
      "metadata": {
        "id": "kC9kE6KajnCE",
        "colab": {
          "base_uri": "https://localhost:8080/"
        },
        "outputId": "2a2f0a12-d0b3-4325-9306-359c84358623"
      },
      "execution_count": null,
      "outputs": [
        {
          "output_type": "stream",
          "name": "stdout",
          "text": [
            "study\n",
            "python\n",
            "language\n"
          ]
        }
      ]
    },
    {
      "cell_type": "code",
      "source": [
        "#155\n",
        "a = [\"A\", \"b\", \"c\", \"D\"]\n",
        "for b in a:\n",
        "  if b == b.upper() :\n",
        "    print(b)\n",
        "  # 또는\n",
        "for c in a :\n",
        "  if c.isupper():\n",
        "    print(c)"
      ],
      "metadata": {
        "id": "yVIKPvC3jnFE",
        "colab": {
          "base_uri": "https://localhost:8080/"
        },
        "outputId": "f0b6bc8d-af95-48a3-ff1d-c5be414e1d7b"
      },
      "execution_count": null,
      "outputs": [
        {
          "output_type": "stream",
          "name": "stdout",
          "text": [
            "A\n",
            "D\n",
            "A\n",
            "D\n"
          ]
        }
      ]
    },
    {
      "cell_type": "code",
      "source": [
        "#156\n",
        "a = [\"A\", \"b\", \"c\", \"D\"]\n",
        "for b in a:\n",
        "  if b.islower():\n",
        "    print(b)"
      ],
      "metadata": {
        "id": "VBNpjZIZjnPc",
        "colab": {
          "base_uri": "https://localhost:8080/"
        },
        "outputId": "5a8f5f8d-32bf-4795-a9da-f0c755ed7558"
      },
      "execution_count": null,
      "outputs": [
        {
          "output_type": "stream",
          "name": "stdout",
          "text": [
            "b\n",
            "c\n"
          ]
        }
      ]
    },
    {
      "cell_type": "code",
      "source": [
        "#157\n",
        "a = ['dog', 'cat', 'parrot']\n",
        "for b in a:\n",
        "  c = b[0]\n",
        "  d = c.upper()\n",
        "  print(d + b[1:])"
      ],
      "metadata": {
        "id": "4VZnQKxpjnS3",
        "colab": {
          "base_uri": "https://localhost:8080/"
        },
        "outputId": "1bb56704-d345-438a-9fd7-b6d383bf59f4"
      },
      "execution_count": null,
      "outputs": [
        {
          "output_type": "stream",
          "name": "stdout",
          "text": [
            "Dog\n",
            "Cat\n",
            "Parrot\n"
          ]
        }
      ]
    },
    {
      "cell_type": "code",
      "source": [
        "#158\n",
        "a = ['hello.py', 'ex01.py', 'intro.hwp']\n",
        "for b in a:\n",
        "  c = b.split(\".\")\n",
        "  print(c[0])"
      ],
      "metadata": {
        "id": "J40wtiNhjneo",
        "colab": {
          "base_uri": "https://localhost:8080/"
        },
        "outputId": "6250c182-d7fd-4a46-c29c-b64f53030f28"
      },
      "execution_count": null,
      "outputs": [
        {
          "output_type": "stream",
          "name": "stdout",
          "text": [
            "hello\n",
            "ex01\n",
            "intro\n"
          ]
        }
      ]
    },
    {
      "cell_type": "code",
      "source": [
        "#159\n",
        "a = ['intra.h', 'intra.c', 'define.h', 'run.py']\n",
        "for b in a:\n",
        "  c = b.split(\".\")\n",
        "  if c[1]== \"h\":\n",
        "    print(b)"
      ],
      "metadata": {
        "id": "DmTMXClbjnhd",
        "colab": {
          "base_uri": "https://localhost:8080/"
        },
        "outputId": "a9859a6d-c6a9-4042-a004-45164b1c3bf9"
      },
      "execution_count": null,
      "outputs": [
        {
          "output_type": "stream",
          "name": "stdout",
          "text": [
            "intra.h\n",
            "define.h\n"
          ]
        }
      ]
    },
    {
      "cell_type": "code",
      "source": [
        "#160\n",
        "a = ['intra.h', 'intra.c', 'define.h', 'run.py']\n",
        "for b in a:\n",
        "  c = b.split(\".\")\n",
        "  if c[1] == \"h\" or c[1] == \"c\" :\n",
        "    print(b)"
      ],
      "metadata": {
        "id": "SSqeDgwWjnky",
        "colab": {
          "base_uri": "https://localhost:8080/"
        },
        "outputId": "b23efd2b-5884-4346-ecc7-940fa68f0310"
      },
      "execution_count": null,
      "outputs": [
        {
          "output_type": "stream",
          "name": "stdout",
          "text": [
            "intra.h\n",
            "intra.c\n",
            "define.h\n"
          ]
        }
      ]
    },
    {
      "cell_type": "code",
      "source": [
        "#161\n",
        "for a in range(0,10) :\n",
        "  print(a)"
      ],
      "metadata": {
        "id": "z_QogYjejnnZ",
        "colab": {
          "base_uri": "https://localhost:8080/"
        },
        "outputId": "1ef99956-2493-46a4-be0f-b0cf5bbae3f7"
      },
      "execution_count": null,
      "outputs": [
        {
          "output_type": "stream",
          "name": "stdout",
          "text": [
            "0\n",
            "1\n",
            "2\n",
            "3\n",
            "4\n",
            "5\n",
            "6\n",
            "7\n",
            "8\n",
            "9\n"
          ]
        }
      ]
    },
    {
      "cell_type": "code",
      "source": [
        "#162\n",
        "for a in range(2002,2051,4):\n",
        "  print(a)"
      ],
      "metadata": {
        "colab": {
          "base_uri": "https://localhost:8080/"
        },
        "id": "9bHZM_sr1OJS",
        "outputId": "d049ff23-8997-4b7f-ebed-892387e54b7a"
      },
      "execution_count": null,
      "outputs": [
        {
          "output_type": "stream",
          "name": "stdout",
          "text": [
            "2002\n",
            "2006\n",
            "2010\n",
            "2014\n",
            "2018\n",
            "2022\n",
            "2026\n",
            "2030\n",
            "2034\n",
            "2038\n",
            "2042\n",
            "2046\n",
            "2050\n"
          ]
        }
      ]
    },
    {
      "cell_type": "code",
      "source": [
        "#163\n",
        "for a in range(3,31,3) :\n",
        "  print(a)"
      ],
      "metadata": {
        "colab": {
          "base_uri": "https://localhost:8080/"
        },
        "id": "ljkHDsgX1Oj-",
        "outputId": "71fbf469-c733-442d-ffab-abfcf56497c4"
      },
      "execution_count": null,
      "outputs": [
        {
          "output_type": "stream",
          "name": "stdout",
          "text": [
            "3\n",
            "6\n",
            "9\n",
            "12\n",
            "15\n",
            "18\n",
            "21\n",
            "24\n",
            "27\n",
            "30\n"
          ]
        }
      ]
    },
    {
      "cell_type": "code",
      "source": [
        "#164\n",
        "for a in range(10):\n",
        "  print(10-a)"
      ],
      "metadata": {
        "colab": {
          "base_uri": "https://localhost:8080/"
        },
        "id": "detSBr171Oqy",
        "outputId": "a4596818-bb75-4c61-c229-14bf55dc0e57"
      },
      "execution_count": null,
      "outputs": [
        {
          "output_type": "stream",
          "name": "stdout",
          "text": [
            "10\n",
            "9\n",
            "8\n",
            "7\n",
            "6\n",
            "5\n",
            "4\n",
            "3\n",
            "2\n",
            "1\n"
          ]
        }
      ]
    },
    {
      "cell_type": "code",
      "source": [
        "#165\n",
        "for a in range(0,10):\n",
        "  print(a/10)"
      ],
      "metadata": {
        "colab": {
          "base_uri": "https://localhost:8080/"
        },
        "id": "mrPfCW_81Oxe",
        "outputId": "fc030b4b-0eb6-4acc-c9ce-499d3c63d68b"
      },
      "execution_count": null,
      "outputs": [
        {
          "output_type": "stream",
          "name": "stdout",
          "text": [
            "0.0\n",
            "0.1\n",
            "0.2\n",
            "0.3\n",
            "0.4\n",
            "0.5\n",
            "0.6\n",
            "0.7\n",
            "0.8\n",
            "0.9\n"
          ]
        }
      ]
    },
    {
      "cell_type": "code",
      "source": [
        "#166\n",
        "for a in range(1,10):\n",
        "  print(\"3 X\" , a ,\"=\" , 3*a)"
      ],
      "metadata": {
        "colab": {
          "base_uri": "https://localhost:8080/"
        },
        "id": "Ah_dawJD1O3M",
        "outputId": "b4f1d93f-d5b9-46ee-b845-9811f87ce453"
      },
      "execution_count": null,
      "outputs": [
        {
          "output_type": "stream",
          "name": "stdout",
          "text": [
            "3 X 1 = 3\n",
            "3 X 2 = 6\n",
            "3 X 3 = 9\n",
            "3 X 4 = 12\n",
            "3 X 5 = 15\n",
            "3 X 6 = 18\n",
            "3 X 7 = 21\n",
            "3 X 8 = 24\n",
            "3 X 9 = 27\n"
          ]
        }
      ]
    },
    {
      "cell_type": "code",
      "source": [
        "#167\n",
        "for a in range(1,10,2):\n",
        "  print(\"3 X\",a,\"=\",3*a)"
      ],
      "metadata": {
        "colab": {
          "base_uri": "https://localhost:8080/"
        },
        "id": "RdsLjkmE1O9C",
        "outputId": "b51ee28d-92e8-479f-84e6-7e48f959629b"
      },
      "execution_count": null,
      "outputs": [
        {
          "output_type": "stream",
          "name": "stdout",
          "text": [
            "3 X 1 = 3\n",
            "3 X 3 = 9\n",
            "3 X 5 = 15\n",
            "3 X 7 = 21\n",
            "3 X 9 = 27\n"
          ]
        }
      ]
    },
    {
      "cell_type": "code",
      "source": [
        "#168\n",
        "a = 0\n",
        "for b in range(1,11):\n",
        "  a += b\n",
        "print(\"합 : \",a)"
      ],
      "metadata": {
        "colab": {
          "base_uri": "https://localhost:8080/"
        },
        "id": "VbiEiM-h1PCY",
        "outputId": "0b2a18a2-e155-4b63-e546-52a1c47d0b4f"
      },
      "execution_count": null,
      "outputs": [
        {
          "output_type": "stream",
          "name": "stdout",
          "text": [
            "합 :  55\n"
          ]
        }
      ]
    },
    {
      "cell_type": "code",
      "source": [
        "#169\n",
        "a = 0\n",
        "for b in range(1,11,2):\n",
        "  a += b\n",
        "print(\"합 :\", a)"
      ],
      "metadata": {
        "colab": {
          "base_uri": "https://localhost:8080/"
        },
        "id": "uemIwrjg1PHY",
        "outputId": "21d6a8c5-f3d3-4fe9-a46b-2f67086d60d5"
      },
      "execution_count": null,
      "outputs": [
        {
          "output_type": "stream",
          "name": "stdout",
          "text": [
            "합 : 25\n"
          ]
        }
      ]
    },
    {
      "cell_type": "code",
      "source": [
        "#170\n",
        "a = 1\n",
        "for b in range(1,11):\n",
        "  a*= b\n",
        "print(a)"
      ],
      "metadata": {
        "colab": {
          "base_uri": "https://localhost:8080/"
        },
        "id": "BgTwPpqN1PYz",
        "outputId": "f5136151-4d0e-4950-bd0b-0e2ee4d42142"
      },
      "execution_count": null,
      "outputs": [
        {
          "output_type": "stream",
          "name": "stdout",
          "text": [
            "3628800\n"
          ]
        }
      ]
    },
    {
      "cell_type": "code",
      "source": [
        "#171\n",
        "a = [32100, 32150, 32000, 32500]\n",
        "for b in range(4):\n",
        "  print(a[b])"
      ],
      "metadata": {
        "colab": {
          "base_uri": "https://localhost:8080/"
        },
        "id": "-wF2K0A8_3om",
        "outputId": "28ac13a1-d5ab-4145-fe71-6edf98419f2e"
      },
      "execution_count": null,
      "outputs": [
        {
          "output_type": "stream",
          "name": "stdout",
          "text": [
            "32100\n",
            "32150\n",
            "32000\n",
            "32500\n"
          ]
        }
      ]
    },
    {
      "cell_type": "code",
      "source": [
        "#172\n",
        "a = [32100, 32150, 32000, 32500]\n",
        "for b in range(4):\n",
        "  print(b,a[b])"
      ],
      "metadata": {
        "colab": {
          "base_uri": "https://localhost:8080/"
        },
        "id": "ngVwkvFB_6ss",
        "outputId": "346af67f-c81c-462b-fb9a-9fab7d7afc12"
      },
      "execution_count": null,
      "outputs": [
        {
          "output_type": "stream",
          "name": "stdout",
          "text": [
            "0 32100\n",
            "1 32150\n",
            "2 32000\n",
            "3 32500\n"
          ]
        }
      ]
    },
    {
      "cell_type": "code",
      "source": [
        "#173\n",
        "a = [32100, 32150, 32000, 32500]\n",
        "for i in range(4):\n",
        "  print(3-i,a[i])"
      ],
      "metadata": {
        "colab": {
          "base_uri": "https://localhost:8080/"
        },
        "id": "zrAY1F_I_77W",
        "outputId": "c32d9111-c11d-4613-b7c3-a31c079bb7bf"
      },
      "execution_count": null,
      "outputs": [
        {
          "output_type": "stream",
          "name": "stdout",
          "text": [
            "3 32100\n",
            "2 32150\n",
            "1 32000\n",
            "0 32500\n"
          ]
        }
      ]
    },
    {
      "cell_type": "code",
      "source": [
        "#174\n",
        "a = [32100, 32150, 32000, 32500]\n",
        "for i in range(1,4):\n",
        "  print(10*i+90,a[i])"
      ],
      "metadata": {
        "colab": {
          "base_uri": "https://localhost:8080/"
        },
        "id": "6VD6Yx1F_8px",
        "outputId": "1eda0800-182f-47a0-dfe9-2ecf7b60ef3d"
      },
      "execution_count": null,
      "outputs": [
        {
          "output_type": "stream",
          "name": "stdout",
          "text": [
            "100 32150\n",
            "110 32000\n",
            "120 32500\n"
          ]
        }
      ]
    },
    {
      "cell_type": "code",
      "source": [
        "#175\n",
        "a = [\"가\", \"나\", \"다\", \"라\"]\n",
        "for i in range(len(a)-1):\n",
        "  print(a[i],a[i+1])"
      ],
      "metadata": {
        "colab": {
          "base_uri": "https://localhost:8080/"
        },
        "id": "Qoj8RlA9_9Vh",
        "outputId": "b41dc93c-d60a-4f03-9f66-07d401374cae"
      },
      "execution_count": null,
      "outputs": [
        {
          "output_type": "stream",
          "name": "stdout",
          "text": [
            "가 나\n",
            "나 다\n",
            "다 라\n"
          ]
        }
      ]
    },
    {
      "cell_type": "code",
      "source": [
        "#176\n",
        "a = [\"가\", \"나\", \"다\", \"라\", \"마\"]\n",
        "for i in range(len(a)-2):\n",
        "  print(a[i],a[i+1],a[i+2])"
      ],
      "metadata": {
        "colab": {
          "base_uri": "https://localhost:8080/"
        },
        "id": "0J0eo5KV_-xT",
        "outputId": "d5f7ee99-c6bf-412f-dbd0-45ba9018e1ee"
      },
      "execution_count": null,
      "outputs": [
        {
          "output_type": "stream",
          "name": "stdout",
          "text": [
            "가 나 다\n",
            "나 다 라\n",
            "다 라 마\n"
          ]
        }
      ]
    },
    {
      "cell_type": "code",
      "source": [
        "#177\n",
        "a = [\"가\", \"나\", \"다\", \"라\"]\n",
        "for i in range(len(a)-1):\n",
        "  print(a[3-i],a[2-i])"
      ],
      "metadata": {
        "colab": {
          "base_uri": "https://localhost:8080/"
        },
        "id": "AgUftVa1__f5",
        "outputId": "dbdf6d66-2cee-4260-8201-2e3d77506c01"
      },
      "execution_count": null,
      "outputs": [
        {
          "output_type": "stream",
          "name": "stdout",
          "text": [
            "라 다\n",
            "다 나\n",
            "나 가\n"
          ]
        }
      ]
    },
    {
      "cell_type": "code",
      "source": [
        "#178\n",
        "a = [100, 200, 400, 800]\n",
        "for i in range(len(a)-1):\n",
        "  print(a[i+1]-a[i])"
      ],
      "metadata": {
        "colab": {
          "base_uri": "https://localhost:8080/"
        },
        "id": "NbLsu94MAAOO",
        "outputId": "25ea4688-7b15-45f8-8606-15d4f6741dd1"
      },
      "execution_count": null,
      "outputs": [
        {
          "output_type": "stream",
          "name": "stdout",
          "text": [
            "100\n",
            "200\n",
            "400\n"
          ]
        }
      ]
    },
    {
      "cell_type": "code",
      "source": [
        "#179\n",
        "a = [100, 200, 400, 800, 1000, 1300]\n",
        "for i in range(len(a)-2):\n",
        "  print((a[i]+a[i+1]+a[i+2])/3)"
      ],
      "metadata": {
        "colab": {
          "base_uri": "https://localhost:8080/"
        },
        "id": "bc0CcsZPAA-i",
        "outputId": "bf835607-cae6-4565-c999-c9692babc16f"
      },
      "execution_count": null,
      "outputs": [
        {
          "output_type": "stream",
          "name": "stdout",
          "text": [
            "233.33333333333334\n",
            "466.6666666666667\n",
            "733.3333333333334\n",
            "1033.3333333333333\n"
          ]
        }
      ]
    },
    {
      "cell_type": "code",
      "source": [
        "#180\n",
        "a = [100, 200, 400, 800, 1000]\n",
        "b = [150, 300, 430, 880, 1000]\n",
        "volatility = []\n",
        "for i in range(len(a)):\n",
        "  volatility.append(b[i]-a[i])\n",
        "print(volatility)"
      ],
      "metadata": {
        "colab": {
          "base_uri": "https://localhost:8080/"
        },
        "id": "pP0Qy1eEABqx",
        "outputId": "2d5d79ac-dd95-4875-801f-1dcfffc6f270"
      },
      "execution_count": null,
      "outputs": [
        {
          "output_type": "stream",
          "name": "stdout",
          "text": [
            "[50, 100, 30, 80, 0]\n"
          ]
        }
      ]
    },
    {
      "cell_type": "code",
      "source": [
        "#181\n",
        "apart = [ [\"101호\",\"102호\"],[\"201호\",\"202호\"],[\"301호\",\"302호\"] ]"
      ],
      "metadata": {
        "id": "PzK2LOeVMydn"
      },
      "execution_count": null,
      "outputs": []
    },
    {
      "cell_type": "code",
      "source": [
        "#182\n",
        "stock = [[\"시가\",100,200,300],[\"종가\",80,210,330]]"
      ],
      "metadata": {
        "id": "m72xzfBoMyW9"
      },
      "execution_count": null,
      "outputs": []
    },
    {
      "cell_type": "code",
      "source": [
        "#183\n",
        "stock = {\"시가\":[100,200,300],\"종가\":[80,201,330]}"
      ],
      "metadata": {
        "id": "47kFxiVgMyRE"
      },
      "execution_count": null,
      "outputs": []
    },
    {
      "cell_type": "code",
      "source": [
        "#184\n",
        "stock = {\"10/10\":[80,110,70,90],\"10/11\":[210,230,190,200]}"
      ],
      "metadata": {
        "id": "Pl88bXxgMyLD"
      },
      "execution_count": null,
      "outputs": []
    },
    {
      "cell_type": "code",
      "source": [
        "#185\n",
        "apart = [ [101, 102], [201, 202], [301, 302] ]\n",
        "for i in apart:\n",
        "  for j in i:\n",
        "    print(j,\"호\")"
      ],
      "metadata": {
        "colab": {
          "base_uri": "https://localhost:8080/"
        },
        "id": "UMzEK_cEMyFh",
        "outputId": "e86c18d1-7214-47eb-cfb5-61402297c0f7"
      },
      "execution_count": null,
      "outputs": [
        {
          "output_type": "stream",
          "name": "stdout",
          "text": [
            "101 호\n",
            "102 호\n",
            "201 호\n",
            "202 호\n",
            "301 호\n",
            "302 호\n"
          ]
        }
      ]
    },
    {
      "cell_type": "code",
      "source": [
        "#186\n",
        "apart = [ [101, 102], [201, 202], [301, 302] ]\n",
        "for i in apart[::-1]:\n",
        "  for j in i:\n",
        "    print(j,\"호\")"
      ],
      "metadata": {
        "colab": {
          "base_uri": "https://localhost:8080/"
        },
        "id": "18_gGGusMx_h",
        "outputId": "5d97dd9b-1a99-4499-e8f1-c53c85f29bc2"
      },
      "execution_count": null,
      "outputs": [
        {
          "output_type": "stream",
          "name": "stdout",
          "text": [
            "301 호\n",
            "302 호\n",
            "201 호\n",
            "202 호\n",
            "101 호\n",
            "102 호\n"
          ]
        }
      ]
    },
    {
      "cell_type": "code",
      "source": [
        "#187\n",
        "apart = [ [101, 102], [201, 202], [301, 302] ]\n",
        "for i in apart[::-1]:\n",
        "  for j in i[::-1]:\n",
        "    print(j,\"호\")"
      ],
      "metadata": {
        "colab": {
          "base_uri": "https://localhost:8080/"
        },
        "id": "sqxTGg_PMx5M",
        "outputId": "4fb60f0b-f006-4c9e-fdbc-280060bc12f6"
      },
      "execution_count": null,
      "outputs": [
        {
          "output_type": "stream",
          "name": "stdout",
          "text": [
            "302 호\n",
            "301 호\n",
            "202 호\n",
            "201 호\n",
            "102 호\n",
            "101 호\n"
          ]
        }
      ]
    },
    {
      "cell_type": "code",
      "source": [
        "#188\n",
        "apart = [ [101, 102], [201, 202], [301, 302] ]\n",
        "for i in apart:\n",
        "  for j in i:\n",
        "    print(j,\"호\")\n",
        "    print(\"-\"*6)"
      ],
      "metadata": {
        "id": "zV8jxOxCMxzO",
        "colab": {
          "base_uri": "https://localhost:8080/"
        },
        "outputId": "200e4b58-8167-405d-c1e2-fef29128dac4"
      },
      "execution_count": null,
      "outputs": [
        {
          "output_type": "stream",
          "name": "stdout",
          "text": [
            "101 호\n",
            "------\n",
            "102 호\n",
            "------\n",
            "201 호\n",
            "------\n",
            "202 호\n",
            "------\n",
            "301 호\n",
            "------\n",
            "302 호\n",
            "------\n"
          ]
        }
      ]
    },
    {
      "cell_type": "code",
      "source": [
        "#189\n",
        "apart = [ [101, 102], [201, 202], [301, 302] ]\n",
        "for i in apart:\n",
        "  for j in i:\n",
        "    print(j,\"호\")\n",
        "  print(\"-\"*6)"
      ],
      "metadata": {
        "id": "GQ6pobCqMxs4",
        "colab": {
          "base_uri": "https://localhost:8080/"
        },
        "outputId": "5661b118-a995-4b22-ac5a-627434e96517"
      },
      "execution_count": null,
      "outputs": [
        {
          "output_type": "stream",
          "name": "stdout",
          "text": [
            "101 호\n",
            "102 호\n",
            "------\n",
            "201 호\n",
            "202 호\n",
            "------\n",
            "301 호\n",
            "302 호\n",
            "------\n"
          ]
        }
      ]
    },
    {
      "cell_type": "code",
      "source": [
        "#190\n",
        "apart = [ [101, 102], [201, 202], [301, 302] ]\n",
        "for i in apart:\n",
        "  for j in i:\n",
        "    print(j,\"호\")\n",
        "print(\"-\"*6)"
      ],
      "metadata": {
        "id": "odhGw0gcMxmv",
        "colab": {
          "base_uri": "https://localhost:8080/"
        },
        "outputId": "68db3d0b-9213-4bc0-e535-6dadef9a4a6d"
      },
      "execution_count": null,
      "outputs": [
        {
          "output_type": "stream",
          "name": "stdout",
          "text": [
            "101 호\n",
            "102 호\n",
            "201 호\n",
            "202 호\n",
            "301 호\n",
            "302 호\n",
            "------\n"
          ]
        }
      ]
    },
    {
      "cell_type": "code",
      "source": [
        "#191\n",
        "data = [\n",
        "    [ 2000,  3050,  2050,  1980],\n",
        "    [ 7500,  2050,  2050,  1980],\n",
        "    [15450, 15050, 15550, 14900]\n",
        "]\n",
        "for i in data:\n",
        "  for j in i:\n",
        "    print(j * 1.00014)"
      ],
      "metadata": {
        "id": "lSChhsEKMxg1",
        "colab": {
          "base_uri": "https://localhost:8080/"
        },
        "outputId": "045e2a4c-1b3e-47dd-f51a-ed4a4b9ad4f6"
      },
      "execution_count": null,
      "outputs": [
        {
          "output_type": "stream",
          "name": "stdout",
          "text": [
            "2000.28\n",
            "3050.427\n",
            "2050.2870000000003\n",
            "1980.2772\n",
            "7501.05\n",
            "2050.2870000000003\n",
            "2050.2870000000003\n",
            "1980.2772\n",
            "15452.163\n",
            "15052.107\n",
            "15552.177\n",
            "14902.086000000001\n"
          ]
        }
      ]
    },
    {
      "cell_type": "code",
      "source": [
        "#192\n",
        "data = [\n",
        "    [ 2000,  3050,  2050,  1980],\n",
        "    [ 7500,  2050,  2050,  1980],\n",
        "    [15450, 15050, 15550, 14900]\n",
        "]\n",
        "for i in data:\n",
        "  for j in i:\n",
        "    print(j * 1.00014)\n",
        "  print(\"-\"*4)"
      ],
      "metadata": {
        "id": "1LxXE_0pMxa_",
        "colab": {
          "base_uri": "https://localhost:8080/"
        },
        "outputId": "c6f2455d-5127-4086-b135-b8ad0b0603f5"
      },
      "execution_count": null,
      "outputs": [
        {
          "output_type": "stream",
          "name": "stdout",
          "text": [
            "2000.28\n",
            "3050.427\n",
            "2050.2870000000003\n",
            "1980.2772\n",
            "----\n",
            "7501.05\n",
            "2050.2870000000003\n",
            "2050.2870000000003\n",
            "1980.2772\n",
            "----\n",
            "15452.163\n",
            "15052.107\n",
            "15552.177\n",
            "14902.086000000001\n",
            "----\n"
          ]
        }
      ]
    },
    {
      "cell_type": "code",
      "source": [
        "#193\n",
        "data = [\n",
        "    [ 2000,  3050,  2050,  1980],\n",
        "    [ 7500,  2050,  2050,  1980],\n",
        "    [15450, 15050, 15550, 14900]\n",
        "]\n",
        "k=[ ]\n",
        "for i in data:\n",
        "  for j in i:\n",
        "    k.append(j * 1.00014)\n",
        "print(k)"
      ],
      "metadata": {
        "id": "UH6l-_yhMxUp",
        "colab": {
          "base_uri": "https://localhost:8080/"
        },
        "outputId": "07640916-d2e7-4859-f3b7-ab383c980d8c"
      },
      "execution_count": null,
      "outputs": [
        {
          "output_type": "stream",
          "name": "stdout",
          "text": [
            "[2000.28, 3050.427, 2050.2870000000003, 1980.2772, 7501.05, 2050.2870000000003, 2050.2870000000003, 1980.2772, 15452.163, 15052.107, 15552.177, 14902.086000000001]\n"
          ]
        }
      ]
    },
    {
      "cell_type": "code",
      "source": [
        "#194\n",
        "k = [ ]\n",
        "for i in data:\n",
        "  l=[ ]\n",
        "  for j in i:\n",
        "    l.append(j*0.00014)\n",
        "  k.append(l)\n",
        "print(k)"
      ],
      "metadata": {
        "id": "m72pRWrBMxO7",
        "colab": {
          "base_uri": "https://localhost:8080/"
        },
        "outputId": "55d0dd09-8ac4-46f4-9aad-e3f13b4ae16e"
      },
      "execution_count": null,
      "outputs": [
        {
          "output_type": "stream",
          "name": "stdout",
          "text": [
            "[[0.27999999999999997, 0.42699999999999994, 0.287, 0.2772], [1.0499999999999998, 0.287, 0.287, 0.2772], [2.163, 2.1069999999999998, 2.1769999999999996, 2.086]]\n"
          ]
        }
      ]
    },
    {
      "cell_type": "code",
      "source": [
        "#195\n",
        "ohlc = [[\"open\", \"high\", \"low\", \"close\"],\n",
        "        [100, 110, 70, 100],\n",
        "        [200, 210, 180, 190],\n",
        "        [300, 310, 300, 310]]\n",
        "for i in ohlc[1:]:\n",
        "  print(i[3])"
      ],
      "metadata": {
        "id": "WWDPFd-CMxIq",
        "colab": {
          "base_uri": "https://localhost:8080/"
        },
        "outputId": "81aa659b-b6f7-4546-82ba-004e49abd97a"
      },
      "execution_count": null,
      "outputs": [
        {
          "output_type": "stream",
          "name": "stdout",
          "text": [
            "100\n",
            "190\n",
            "310\n"
          ]
        }
      ]
    },
    {
      "cell_type": "code",
      "source": [
        "#196\n",
        "ohlc = [[\"open\", \"high\", \"low\", \"close\"],\n",
        "        [100, 110, 70, 100],\n",
        "        [200, 210, 180, 190],\n",
        "        [300, 310, 300, 310]]\n",
        "for i in ohlc[1:]:\n",
        "  if i[3]>150:\n",
        "    print(i[3])"
      ],
      "metadata": {
        "id": "yIFyd4nkMxCn",
        "colab": {
          "base_uri": "https://localhost:8080/"
        },
        "outputId": "d4ca31d3-cf44-40e0-8390-7e6ff4923e7d"
      },
      "execution_count": null,
      "outputs": [
        {
          "output_type": "stream",
          "name": "stdout",
          "text": [
            "190\n",
            "310\n"
          ]
        }
      ]
    },
    {
      "cell_type": "code",
      "source": [
        "#197\n",
        "ohlc = [[\"open\", \"high\", \"low\", \"close\"],\n",
        "        [100, 110, 70, 100],\n",
        "        [200, 210, 180, 190],\n",
        "        [300, 310, 300, 310]]\n",
        "for i in ohlc[1:]:\n",
        "  if i[3]>=i[0]:\n",
        "    print(i[3])"
      ],
      "metadata": {
        "id": "Uxi9ZsePMw8P",
        "colab": {
          "base_uri": "https://localhost:8080/"
        },
        "outputId": "b7b13253-eb77-4c99-8110-061c16778af7"
      },
      "execution_count": null,
      "outputs": [
        {
          "output_type": "stream",
          "name": "stdout",
          "text": [
            "100\n",
            "310\n"
          ]
        }
      ]
    },
    {
      "cell_type": "code",
      "source": [
        "#198\n",
        "ohlc = [[\"open\", \"high\", \"low\", \"close\"],\n",
        "        [100, 110, 70, 100],\n",
        "        [200, 210, 180, 190],\n",
        "        [300, 310, 300, 310]]\n",
        "a = [ ]\n",
        "for i in ohlc[1:]:\n",
        "  v = i[1] - i[2]\n",
        "  a.append(v)\n",
        "print(a)"
      ],
      "metadata": {
        "id": "IgmChyuEMw1c",
        "colab": {
          "base_uri": "https://localhost:8080/"
        },
        "outputId": "51d3eda9-334c-43c6-eb09-795414ed1555"
      },
      "execution_count": null,
      "outputs": [
        {
          "output_type": "stream",
          "name": "stdout",
          "text": [
            "[40, 30, 10]\n"
          ]
        }
      ]
    },
    {
      "cell_type": "code",
      "source": [
        "#199\n",
        "ohlc = [[\"open\", \"high\", \"low\", \"close\"],\n",
        "        [100, 110, 70, 100],\n",
        "        [200, 210, 180, 190],\n",
        "        [300, 310, 300, 310]]\n",
        "for i in ohlc[1:]:\n",
        "  if i[3]>i[0]:\n",
        "    print(i[1]-i[2])"
      ],
      "metadata": {
        "id": "LC7Bl51GMwuZ",
        "colab": {
          "base_uri": "https://localhost:8080/"
        },
        "outputId": "354a5b84-2982-4445-a3e3-5bad32b511a9"
      },
      "execution_count": null,
      "outputs": [
        {
          "output_type": "stream",
          "name": "stdout",
          "text": [
            "10\n"
          ]
        }
      ]
    },
    {
      "cell_type": "code",
      "source": [
        "#200\n",
        "ohlc = [[\"open\", \"high\", \"low\", \"close\"],\n",
        "        [100, 110, 70, 100],\n",
        "        [200, 210, 180, 190],\n",
        "        [300, 310, 300, 310]]\n",
        "k=0\n",
        "for i in ohlc[1:]:\n",
        "  k += (i[3]-i[0])\n",
        "print(k)"
      ],
      "metadata": {
        "id": "ZFP8lAZkMwms",
        "colab": {
          "base_uri": "https://localhost:8080/"
        },
        "outputId": "c000273e-952e-4eb5-aec1-342275d36121"
      },
      "execution_count": null,
      "outputs": [
        {
          "output_type": "stream",
          "name": "stdout",
          "text": [
            "0\n"
          ]
        }
      ]
    }
  ]
}