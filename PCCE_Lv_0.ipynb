{
  "nbformat": 4,
  "nbformat_minor": 0,
  "metadata": {
    "colab": {
      "provenance": []
    },
    "kernelspec": {
      "name": "python3",
      "display_name": "Python 3"
    },
    "language_info": {
      "name": "python"
    }
  },
  "cells": [
    {
      "cell_type": "code",
      "execution_count": null,
      "metadata": {
        "id": "Nhir05xY3qEQ"
      },
      "outputs": [],
      "source": [
        "# 1번 - 문자 출력\n",
        "\n",
        "message = \"Let's go!\"\n",
        "\n",
        "print(\"3\\n2\\n1\")\n",
        "print(message)"
      ]
    },
    {
      "cell_type": "code",
      "source": [
        "# 2번 - 각도 합치기\n",
        "\n",
        "angle1 = int(input())\n",
        "angle2 = int(input())\n",
        "\n",
        "sum_angle = (angle1 + angle2) % 360\n",
        "print(\"\\n\",sum_angle)"
      ],
      "metadata": {
        "id": "GvS-aH104Dcf"
      },
      "execution_count": null,
      "outputs": []
    },
    {
      "cell_type": "code",
      "source": [
        "# 3번 - 수 나누기\n",
        "\n",
        "num = int(input(\"자릿수가 2의 배수인 자연수를 입력하세요.\"))\n",
        "\n",
        "ans = 0\n",
        "\n",
        "while num != 0 :\n",
        "    ans += num % 100\n",
        "    num //= 100\n",
        "\n",
        "print(ans)"
      ],
      "metadata": {
        "colab": {
          "base_uri": "https://localhost:8080/"
        },
        "id": "5JAwDbGg4u-G",
        "outputId": "4af8c626-444e-4c17-bf6c-556ae5bdb4e6"
      },
      "execution_count": 9,
      "outputs": [
        {
          "output_type": "stream",
          "name": "stdout",
          "text": [
            "자릿수가 2의 배수인 자연수를 입력하세요.920626\n",
            "124\n"
          ]
        }
      ]
    },
    {
      "cell_type": "code",
      "source": [
        "# 4번 - 병과분류\n",
        "\n",
        "symptom = input(\"증상을 입력하세요.\")\n",
        "\n",
        "if symptom[-4:] == \"_eye\" :\n",
        "    print(\"Ophthalmologyc\")\n",
        "elif symptom[-4:] == \"head\" :\n",
        "    print(\"Neurosurgery\")\n",
        "elif symptom[-4:] == \"infl\" :\n",
        "    print(\"Orthopedics\")\n",
        "elif symptom[-4:] == \"skin\" :\n",
        "    print(\"Dermatology\")\n",
        "else :\n",
        "    print(\"direct recommendation\")"
      ],
      "metadata": {
        "colab": {
          "base_uri": "https://localhost:8080/"
        },
        "id": "nSVWX0QK6y8n",
        "outputId": "92c0765f-35ba-4607-f4a7-53491798acf0"
      },
      "execution_count": 13,
      "outputs": [
        {
          "output_type": "stream",
          "name": "stdout",
          "text": [
            "증상을 입력하세요.dry_eye\n",
            "Ophthalmologyc\n"
          ]
        }
      ]
    },
    {
      "cell_type": "code",
      "source": [
        "# 5번 - 심폐소생술\n",
        "\n",
        "def solution(cpr):\n",
        "    answer = []\n",
        "    basic_order = [\"check\", \"call\", \"pressure\", \"respiration\", \"repeat\"]\n",
        "    for action in cpr:\n",
        "        for i in range(len(basic_order)):\n",
        "            if action == basic_order[i]:\n",
        "                answer.append(i + 1)\n",
        "    return answer"
      ],
      "metadata": {
        "id": "Azfk_mkoBdDP"
      },
      "execution_count": null,
      "outputs": []
    },
    {
      "cell_type": "code",
      "source": [
        "# 6번 - 물 부족\n",
        "\n",
        "def solution(storage, usage, change):\n",
        "    total_usage = 0\n",
        "    for i in range(len(change)):\n",
        "        usage = int(usage * (1 + change[i] / 100))\n",
        "        total_usage += usage\n",
        "        if total_usage > storage:\n",
        "            return i\n",
        "    return -1"
      ],
      "metadata": {
        "id": "26F3s4PHJ86_"
      },
      "execution_count": null,
      "outputs": []
    },
    {
      "cell_type": "code",
      "source": [
        "# 7번 - 버스\n",
        "\n",
        "def solution(seat, logs):\n",
        "    answer = []\n",
        "    current = 0\n",
        "    for log in logs:\n",
        "        current += sum(log)\n",
        "        answer.append(current)\n",
        "    return answer"
      ],
      "metadata": {
        "id": "zX05vbEXKkjP"
      },
      "execution_count": 18,
      "outputs": []
    },
    {
      "cell_type": "code",
      "source": [
        "# 8번 - 닉네임 규칙\n",
        "\n",
        "def solution(nickname):\n",
        "    answer = \"\"\n",
        "    for ch in nickname:\n",
        "        if ch == 'l':\n",
        "            answer += 'I'\n",
        "        elif ch == 'w':\n",
        "            answer += 'vv'\n",
        "        elif ch == 'W':\n",
        "            answer += 'VV'\n",
        "        elif ch == 'O':\n",
        "            answer += '0'\n",
        "        else:\n",
        "            answer += ch\n",
        "    while len(answer) < 4:\n",
        "        answer += 'o'\n",
        "    if len(answer) > 8:\n",
        "        answer = answer[:8]\n",
        "    return answer"
      ],
      "metadata": {
        "id": "y7Kha0YJLfVo"
      },
      "execution_count": null,
      "outputs": []
    }
  ]
}