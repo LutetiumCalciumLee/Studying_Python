{
  "nbformat": 4,
  "nbformat_minor": 0,
  "metadata": {
    "colab": {
      "provenance": []
    },
    "kernelspec": {
      "name": "python3",
      "display_name": "Python 3"
    },
    "language_info": {
      "name": "python"
    }
  },
  "cells": [
    {
      "cell_type": "code",
      "execution_count": null,
      "metadata": {
        "colab": {
          "base_uri": "https://localhost:8080/"
        },
        "id": "x9jMP5TnDgsf",
        "outputId": "5cb1ae32-6d7e-4852-a340-f5e5a4221293"
      },
      "outputs": [
        {
          "name": "stdout",
          "output_type": "stream",
          "text": [
            "Enter the natural number.60\n"
          ]
        }
      ],
      "source": [
        "number = int(input(\"Enter the natural number.\"))"
      ]
    },
    {
      "cell_type": "code",
      "source": [
        "result = []\n",
        "for i in range(1, number + 1):\n",
        "  if i % 3 == 0 and i % 2 != 0:\n",
        "    result.append(i)\n",
        "print (result)"
      ],
      "metadata": {
        "colab": {
          "base_uri": "https://localhost:8080/"
        },
        "id": "gWleFIJ-EH3y",
        "outputId": "a98786ff-7f9a-4a2d-871b-ae61f117a8bc"
      },
      "execution_count": null,
      "outputs": [
        {
          "output_type": "stream",
          "name": "stdout",
          "text": [
            "[3, 9, 15, 21, 27, 33, 39, 45, 51, 57]\n"
          ]
        }
      ]
    }
  ]
}