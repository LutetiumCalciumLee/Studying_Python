{
  "nbformat": 4,
  "nbformat_minor": 0,
  "metadata": {
    "colab": {
      "provenance": []
    },
    "kernelspec": {
      "name": "python3",
      "display_name": "Python 3"
    },
    "language_info": {
      "name": "python"
    }
  },
  "cells": [
    {
      "cell_type": "code",
      "execution_count": null,
      "metadata": {
        "id": "kgFaULmOF4B_"
      },
      "outputs": [],
      "source": [
        "import random\n",
        "\n",
        "# 정답 숫자 3개 생성\n",
        "p = random.randint(0, 9)\n",
        "q = random.randint(0, 9)\n",
        "r = random.randint(0, 9)\n",
        "answer = [p, q, r]\n",
        "\n",
        "n = 0\n",
        "\n",
        "while True:\n",
        "    a = input(\"세 자리의 숫자를 입력하세요 (예: 007): \")\n",
        "\n",
        "    if len(a) != 3 or not a.isdigit():\n",
        "        print(\"잘못된 입력입니다. 세 자리 숫자를 정확히 입력하세요.\")\n",
        "        continue\n",
        "\n",
        "    guess = [int(a[0]), int(a[1]), int(a[2])]\n",
        "    n += 1\n",
        "\n",
        "    # 스트라이크와 볼 계산\n",
        "    strike = sum([guess[i] == answer[i] for i in range(3)])\n",
        "    ball = sum([x in answer for x in guess]) - strike\n",
        "\n",
        "    if strike == 3:\n",
        "        print(f\"정답입니다! {n}번 만에 맞추셨습니다.\")\n",
        "        break\n",
        "    elif ball == 0 and strike == 0:\n",
        "        print(\"OUT\")\n",
        "    else:\n",
        "        print(f\"{ball}B {strike}S\")"
      ]
    },
    {
      "cell_type": "code",
      "source": [
        "print(p,q,r)"
      ],
      "metadata": {
        "id": "2aMHA5muG6fX"
      },
      "execution_count": null,
      "outputs": []
    }
  ]
}