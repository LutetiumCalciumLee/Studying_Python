{
  "nbformat": 4,
  "nbformat_minor": 0,
  "metadata": {
    "colab": {
      "provenance": []
    },
    "kernelspec": {
      "name": "python3",
      "display_name": "Python 3"
    },
    "language_info": {
      "name": "python"
    }
  },
  "cells": [
    {
      "cell_type": "code",
      "execution_count": null,
      "metadata": {
        "colab": {
          "base_uri": "https://localhost:8080/"
        },
        "id": "-KnM-HUhFAlB",
        "outputId": "49a31657-4cb2-4479-a98d-62845f08673b"
      },
      "outputs": [
        {
          "name": "stdout",
          "output_type": "stream",
          "text": [
            "팰린드롬을 판별할 문자열을 입력하세요 \n",
            "nursesrun\n"
          ]
        },
        {
          "output_type": "execute_result",
          "data": {
            "text/plain": [
              "True"
            ]
          },
          "metadata": {},
          "execution_count": 8
        }
      ],
      "source": [
        "A = input(\"팰린드롬을 판별할 문자열을 입력하세요 \\n\")\n",
        "\n",
        "def palindrome(a):\n",
        "    new = a.lower()\n",
        "    new = a.replace(\" \", \"\")\n",
        "    return new == a[::-1]\n",
        "palindrome(A)"
      ]
    }
  ]
}