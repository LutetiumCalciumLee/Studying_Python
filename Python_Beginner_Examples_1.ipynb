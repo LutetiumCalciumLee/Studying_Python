{
  "nbformat": 4,
  "nbformat_minor": 0,
  "metadata": {
    "colab": {
      "provenance": []
    },
    "kernelspec": {
      "name": "python3",
      "display_name": "Python 3"
    },
    "language_info": {
      "name": "python"
    }
  },
  "cells": [
    {
      "cell_type": "code",
      "execution_count": null,
      "metadata": {
        "id": "meul3mUGED7R"
      },
      "outputs": [],
      "source": [
        "print (20 + 30)"
      ]
    },
    {
      "cell_type": "code",
      "source": [
        "print (\"20 + 30\")"
      ],
      "metadata": {
        "id": "9newFLFMErHe"
      },
      "execution_count": null,
      "outputs": []
    },
    {
      "cell_type": "code",
      "source": [
        "print (20 + 30)\n",
        "print (\"20 + 30\")"
      ],
      "metadata": {
        "id": "F0RaDBsCJ3vi"
      },
      "execution_count": null,
      "outputs": []
    },
    {
      "cell_type": "code",
      "source": [
        "print (20 + 30) #산술 연술 결과를 출력"
      ],
      "metadata": {
        "id": "tLTqHZ0_FUsz"
      },
      "execution_count": null,
      "outputs": []
    },
    {
      "cell_type": "code",
      "source": [
        "print (\"20 + 30\")\n",
        "'''문자열로\n",
        "출력'''"
      ],
      "metadata": {
        "id": "e99PF4XEGMS6"
      },
      "execution_count": null,
      "outputs": []
    },
    {
      "cell_type": "code",
      "source": [
        "a = 20\n",
        "b = 30\n",
        "\n",
        "c = a + b\n",
        "\n",
        "print (c)\n",
        "print(a,b,c)\n",
        "print (a,'+',b,'=',c)"
      ],
      "metadata": {
        "id": "7Tzx4F5jG5XV"
      },
      "execution_count": null,
      "outputs": []
    },
    {
      "cell_type": "code",
      "source": [
        "a = 20\n",
        "b = 30\n",
        "\n",
        "c = a + b\n",
        "c = a + 50\n",
        "print(c)"
      ],
      "metadata": {
        "id": "cQ1eEenmOz5X"
      },
      "execution_count": null,
      "outputs": []
    },
    {
      "cell_type": "code",
      "source": [
        "100 = a + b"
      ],
      "metadata": {
        "id": "GYgkoKdBbqeB"
      },
      "execution_count": null,
      "outputs": []
    },
    {
      "cell_type": "code",
      "source": [
        "a + b = c"
      ],
      "metadata": {
        "id": "69R37BiZchsl"
      },
      "execution_count": null,
      "outputs": []
    },
    {
      "cell_type": "code",
      "source": [
        "a = 10\n",
        "b = 5\n",
        "\n",
        "c = a - b\n",
        "d = a * b\n",
        "e = a / b\n",
        "\n",
        "print (a, '-' ,b ,'=' ,c )\n",
        "print (a, 'x' ,b ,'=' ,d )\n",
        "print (a, '/' ,b ,'=' ,e )"
      ],
      "metadata": {
        "id": "Ms86gx3XdsN6"
      },
      "execution_count": null,
      "outputs": []
    },
    {
      "cell_type": "code",
      "source": [
        "a = \"Hello.\"\n",
        "b = \"Good morning.\"\n",
        "\n",
        "print (a + b)"
      ],
      "metadata": {
        "id": "H1Cob4rrd91E"
      },
      "execution_count": null,
      "outputs": []
    },
    {
      "cell_type": "code",
      "source": [
        "a = \"Hello.\"\n",
        "b = \"Good morning.\"\n",
        "\n",
        "print (a - b)"
      ],
      "metadata": {
        "id": "G3YDztLiN6MN"
      },
      "execution_count": null,
      "outputs": []
    },
    {
      "cell_type": "code",
      "source": [
        "first_num = 10\n",
        "num_input = 20\n",
        "inputDate = 30"
      ],
      "metadata": {
        "id": "FFxWTFPgTNiF"
      },
      "execution_count": null,
      "outputs": []
    },
    {
      "cell_type": "code",
      "source": [
        "num1 = input()"
      ],
      "metadata": {
        "id": "Fz8mPjaFUnwd"
      },
      "execution_count": null,
      "outputs": []
    },
    {
      "cell_type": "code",
      "source": [
        "num2 = input('Number ==> ')"
      ],
      "metadata": {
        "id": "YQQcADIOU7Au"
      },
      "execution_count": null,
      "outputs": []
    },
    {
      "cell_type": "code",
      "source": [
        "result = num1 + num2\n",
        "\n",
        "print(result)"
      ],
      "metadata": {
        "id": "-fkerC_OWRhT"
      },
      "execution_count": null,
      "outputs": []
    },
    {
      "cell_type": "code",
      "source": [
        "num1 = int(input(\"1st number ==> \"))\n",
        "num2 = int(input(\"2nd number ==> \"))\n",
        "result = num1 + num2\n",
        "\n",
        "print (result)"
      ],
      "metadata": {
        "id": "Lm-OXhfIYo0W"
      },
      "execution_count": null,
      "outputs": []
    },
    {
      "cell_type": "code",
      "source": [
        "n1 = 20\n",
        "n2 = 15\n",
        "\n",
        "print(n1 + n2)\n",
        "print(n1 - n2)\n",
        "print(n1 * n2)\n",
        "print(n1 / n2)"
      ],
      "metadata": {
        "id": "wL80p0EgaJ4S"
      },
      "execution_count": null,
      "outputs": []
    },
    {
      "cell_type": "code",
      "source": [
        "n1 = 5\n",
        "n2 = 3\n",
        "\n",
        "print(n1 // n2)\n",
        "print(n1 % n2)\n",
        "print(n1 ** n2)"
      ],
      "metadata": {
        "id": "4omjnc-Iauhb"
      },
      "execution_count": null,
      "outputs": []
    },
    {
      "cell_type": "code",
      "source": [
        "num1 , num2 = 10 , 20\n",
        "num3 , num4 = 10*20 , 10+20\n",
        "num5 , num6 = int(\"10\") , 10/5"
      ],
      "metadata": {
        "id": "puyRfMQSgcTf"
      },
      "execution_count": null,
      "outputs": []
    },
    {
      "cell_type": "code",
      "source": [
        "num1 = 10\n",
        "num1 = num1 + 20\n",
        "\n",
        "print(num1)"
      ],
      "metadata": {
        "id": "fFN9MOMWjMD7"
      },
      "execution_count": null,
      "outputs": []
    },
    {
      "cell_type": "code",
      "source": [
        "num1 = 10\n",
        "\n",
        "num1 *= 3\n",
        "\n",
        "print(num1)"
      ],
      "metadata": {
        "id": "nhdXZAlyjfKY"
      },
      "execution_count": null,
      "outputs": []
    },
    {
      "cell_type": "code",
      "source": [
        "num1 = 100\n",
        "\n",
        "num1 //= 3\n",
        "\n",
        "print(num1)"
      ],
      "metadata": {
        "id": "ocPCOX_hkPFz"
      },
      "execution_count": null,
      "outputs": []
    },
    {
      "cell_type": "code",
      "source": [
        "num1 = 10\n",
        "\n",
        "num1 **= 3\n",
        "\n",
        "print(num1)"
      ],
      "metadata": {
        "id": "gVzLsUfHkgOq"
      },
      "execution_count": null,
      "outputs": []
    },
    {
      "cell_type": "code",
      "source": [
        "var1 = 100 #정수\n",
        "var2 = 3.14 #실수\n",
        "var3 = \"Python\" #문자열\n",
        "var4 = True #bool"
      ],
      "metadata": {
        "id": "rkqEfRnIq38h"
      },
      "execution_count": null,
      "outputs": []
    },
    {
      "cell_type": "code",
      "source": [
        "type(var1)"
      ],
      "metadata": {
        "id": "yJvDV90lr1c4"
      },
      "execution_count": null,
      "outputs": []
    },
    {
      "cell_type": "code",
      "source": [
        "type(var2)"
      ],
      "metadata": {
        "id": "Eayc7McesIQn"
      },
      "execution_count": null,
      "outputs": []
    },
    {
      "cell_type": "code",
      "source": [
        "type(var3)"
      ],
      "metadata": {
        "id": "6UKvzAVksJud"
      },
      "execution_count": null,
      "outputs": []
    },
    {
      "cell_type": "code",
      "source": [
        "type(var4)"
      ],
      "metadata": {
        "id": "i3c3R5W6sL5J"
      },
      "execution_count": null,
      "outputs": []
    },
    {
      "cell_type": "code",
      "source": [
        "a = (100 > 10)\n",
        "\n",
        "print(a)"
      ],
      "metadata": {
        "id": "12aOuQgmt4sJ"
      },
      "execution_count": null,
      "outputs": []
    },
    {
      "cell_type": "code",
      "source": [
        "b = (10 > 20)\n",
        "\n",
        "print(b)"
      ],
      "metadata": {
        "id": "RDWOEp7huEgM"
      },
      "execution_count": null,
      "outputs": []
    },
    {
      "cell_type": "code",
      "source": [
        "var1 = \"\"\"Hello.\n",
        "It's\n",
        "nice day.\"\"\"\n",
        "\n",
        "print(var1)"
      ],
      "metadata": {
        "id": "sjtUMATqvPMy"
      },
      "execution_count": null,
      "outputs": []
    },
    {
      "cell_type": "code",
      "source": [
        "a = \"Hello. \\n Happy \\t birthday Mr.O\\'Neal!\\b\\\\\"\n",
        "\n",
        "print(a)"
      ],
      "metadata": {
        "id": "VP7ug7A_wmdx"
      },
      "execution_count": null,
      "outputs": []
    },
    {
      "cell_type": "code",
      "source": [
        "a = \"Hello.\" + \"Happy\" + \"birthday!\"\n",
        "\n",
        "print(a)"
      ],
      "metadata": {
        "id": "RvecXjNs28xA"
      },
      "execution_count": null,
      "outputs": []
    },
    {
      "cell_type": "code",
      "source": [
        "a = \"Hello~\" * 3\n",
        "\n",
        "print(a)"
      ],
      "metadata": {
        "id": "KQ49F4XA3uda"
      },
      "execution_count": null,
      "outputs": []
    },
    {
      "cell_type": "code",
      "source": [
        "a = \"Hello 2025\"\n",
        "len(a)"
      ],
      "metadata": {
        "id": "SRp-Pfuw4W6N"
      },
      "execution_count": null,
      "outputs": []
    },
    {
      "cell_type": "code",
      "source": [
        "golfer = \"Rory McIlroy\"\n",
        "\n",
        "a = golfer.upper()\n",
        "b = golfer.lower()\n",
        "\n",
        "print(a)\n",
        "print(b)"
      ],
      "metadata": {
        "id": "4NiOoSQI5W-O"
      },
      "execution_count": null,
      "outputs": []
    },
    {
      "cell_type": "code",
      "source": [
        "Presley = \"\"\"Love me tender, love me sweet,\n",
        "never let me go\n",
        "You have made my life complete,\n",
        "and I love you so\"\"\"\n",
        "\n",
        "a = Presley.count(\"love\")\n",
        "b = Presley.count(\"Love\")\n",
        "\n",
        "print(a)\n",
        "print(b)"
      ],
      "metadata": {
        "id": "U5gl77dX6t2k"
      },
      "execution_count": null,
      "outputs": []
    },
    {
      "cell_type": "code",
      "source": [
        "sent = \"오늘 하루는 정말 기분 좋은 하루입니다\"\n",
        "\n",
        "a = sent.find(\"하루\")\n",
        "b = sent.find(\"하루\",5)\n",
        "c = sent.find(\"하루\",18)\n",
        "\n",
        "print(a)\n",
        "print(b)\n",
        "print(c)"
      ],
      "metadata": {
        "id": "amZufFHx9tkY"
      },
      "execution_count": null,
      "outputs": []
    },
    {
      "cell_type": "code",
      "source": [
        "ss = \"좋은아침 입니다.\"\n",
        "\n",
        "print(ss[:])\n",
        "print(ss[1:3])\n",
        "print(ss[6:])\n",
        "print(ss[:4])\n",
        "print(ss[-3:])\n",
        "print(ss[:-7])"
      ],
      "metadata": {
        "id": "BYJh9_mBAQtx"
      },
      "execution_count": null,
      "outputs": []
    },
    {
      "cell_type": "code",
      "source": [
        "num = 99\n",
        "if num < 100 :\n",
        "  print (\"100보다 작음\")"
      ],
      "metadata": {
        "id": "DpSIcZJ0fI-C"
      },
      "execution_count": null,
      "outputs": []
    },
    {
      "cell_type": "code",
      "source": [
        "num = 101\n",
        "if num < 100 :\n",
        "  print (\"100보다 작음\")"
      ],
      "metadata": {
        "id": "7xqtlJNAjlXk"
      },
      "execution_count": null,
      "outputs": []
    },
    {
      "cell_type": "code",
      "source": [
        "num = int(input(\"정수를 입력하세요 \"))\n",
        "\n",
        "if num % 2 == 0 :\n",
        "  print(\"짝수입니다.\")\n",
        "else :\n",
        "  print(\"홀수입니다.\")"
      ],
      "metadata": {
        "id": "Zoh_Kawskdtq"
      },
      "execution_count": null,
      "outputs": []
    },
    {
      "cell_type": "code",
      "source": [
        "score = int(input(\"점수입력란 \"))\n",
        "\n",
        "if score >= 90 :\n",
        "  print('A',end='')\n",
        "else :\n",
        "  if score >= 80 :\n",
        "    print('B',end='')\n",
        "  else :\n",
        "    if score >= 70 :\n",
        "      print('C',end='')\n",
        "    else :\n",
        "      if score >= 60 :\n",
        "        print('D',end='')\n",
        "      else :\n",
        "        print('F',end='')\n",
        "print(\"학점입니다.\")"
      ],
      "metadata": {
        "id": "mOJD9sC6lYHA"
      },
      "execution_count": null,
      "outputs": []
    },
    {
      "cell_type": "code",
      "source": [
        "score = int(input(\"점수입력란 \"))\n",
        "\n",
        "if score >= 90 :\n",
        "  print('A',end='')\n",
        "elif score >= 80 :\n",
        "  print('B',end='')\n",
        "elif score >= 70 :\n",
        "  print('C',end='')\n",
        "elif score >= 60 :\n",
        "  print('D',end='')\n",
        "else :\n",
        "  print('F',end='')\n",
        "print(\"학점입니다.\")"
      ],
      "metadata": {
        "id": "_DsQ8AR-muRG"
      },
      "execution_count": null,
      "outputs": []
    },
    {
      "cell_type": "code",
      "source": [
        "for i in range(0,3,1):\n",
        "  print(\"AISW\")\n",
        "print(\"-----\")\n",
        "for i in range(3):\n",
        "  print(\"AISW\")"
      ],
      "metadata": {
        "id": "sGKuv2MvvfM1"
      },
      "execution_count": null,
      "outputs": []
    },
    {
      "cell_type": "code",
      "source": [
        "for i in range(1,11):\n",
        "  print(i,end='')"
      ],
      "metadata": {
        "id": "nvOYUd1fxjZa"
      },
      "execution_count": null,
      "outputs": []
    },
    {
      "cell_type": "code",
      "source": [
        "i = 0\n",
        "sum = 0\n",
        "\n",
        "for i in range(11):\n",
        "  sum += i\n",
        "\n",
        "print(\"1에서 10까지 자연수의 합 = \",sum)"
      ],
      "metadata": {
        "id": "AsBjr6hiynZP"
      },
      "execution_count": null,
      "outputs": []
    },
    {
      "cell_type": "code",
      "source": [
        "# 구구단\n",
        "\n",
        "i,k = 0,0\n",
        "\n",
        "for i in range(2,10):\n",
        "  print(i,\"단\")\n",
        "  for k in range(1,10):\n",
        "    print(i,'X',k,'=',i*k)"
      ],
      "metadata": {
        "id": "LGWSrohR0UN-"
      },
      "execution_count": null,
      "outputs": []
    },
    {
      "cell_type": "code",
      "source": [
        "print(\"<for문>\")\n",
        "for i in range(3):\n",
        "  print(i+1,\": python\")\n",
        "print(\"\\n<while문으로 변경>\")\n",
        "i = 0\n",
        "while (i<3):\n",
        "  print(i+1,\": python\")\n",
        "  i += 1"
      ],
      "metadata": {
        "id": "TATwLfEHFzfr"
      },
      "execution_count": null,
      "outputs": []
    },
    {
      "cell_type": "code",
      "source": [
        "sum = 0\n",
        "num1,num2 = 0,0\n",
        "\n",
        "while True :\n",
        "  num1 = int(input(\"1st number : \"))\n",
        "  if num1 == 0:\n",
        "    break\n",
        "  num2 = int(input(\"2nd number : \"))\n",
        "\n",
        "  sum = num1 + num2\n",
        "  print(num1,\"+\",num2,\"=\",sum)\n",
        "\n",
        "print(\"0을 입력해서 계산을 종료합니다.\")"
      ],
      "metadata": {
        "id": "4dvzRagMJEB0"
      },
      "execution_count": null,
      "outputs": []
    },
    {
      "cell_type": "code",
      "source": [
        "i , sum = 0,0\n",
        "\n",
        "for i in range(1,101):\n",
        "  if i % 4 == 0 :\n",
        "    continue\n",
        "\n",
        "  sum += i\n",
        "\n",
        "print(\"4의 배수 제외하고 1~100 자연수 합 :\",sum)"
      ],
      "metadata": {
        "id": "EzQowsHZKsVI"
      },
      "execution_count": null,
      "outputs": []
    }
  ]
}