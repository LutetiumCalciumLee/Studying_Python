{
  "nbformat": 4,
  "nbformat_minor": 0,
  "metadata": {
    "colab": {
      "provenance": []
    },
    "kernelspec": {
      "name": "python3",
      "display_name": "Python 3"
    },
    "language_info": {
      "name": "python"
    }
  },
  "cells": [
    {
      "cell_type": "code",
      "execution_count": null,
      "metadata": {
        "id": "yj-ZXqsOscLD",
        "colab": {
          "base_uri": "https://localhost:8080/",
          "height": 35
        },
        "outputId": "eedd3c59-2e4b-434c-ddd0-7978a085184b"
      },
      "outputs": [
        {
          "output_type": "execute_result",
          "data": {
            "text/plain": [
              "'클래스 : 객체를 생성하기 위한 설계도 혹은 틀\\n 객체 : 숫자, 문자열, 자료구조, 함수 등 실제로 있는 것들'"
            ],
            "application/vnd.google.colaboratory.intrinsic+json": {
              "type": "string"
            }
          },
          "metadata": {},
          "execution_count": 42
        }
      ],
      "source": [
        "#251\n",
        "\"\"\"클래스 : 객체를 생성하기 위한 설계도 혹은 틀\n",
        " 객체 : 숫자, 문자열, 자료구조, 함수 등 실제로 있는 것들\"\"\""
      ]
    },
    {
      "cell_type": "code",
      "source": [
        "#252\n",
        "class Human :\n",
        "  pass"
      ],
      "metadata": {
        "id": "EYusiFN9suLo"
      },
      "execution_count": null,
      "outputs": []
    },
    {
      "cell_type": "code",
      "source": [
        "#253\n",
        "class Human :\n",
        "  pass\n",
        "\n",
        "areum = Human()"
      ],
      "metadata": {
        "id": "VAPHaWgHs1gv"
      },
      "execution_count": null,
      "outputs": []
    },
    {
      "cell_type": "code",
      "source": [
        "#254\n",
        "class Human :\n",
        "  def __init__(self) :\n",
        "    print(\"Waaah waaah!\")\n",
        "\n",
        "areum = Human()"
      ],
      "metadata": {
        "id": "7X4M75Z_tBH8",
        "colab": {
          "base_uri": "https://localhost:8080/"
        },
        "outputId": "f5ee6fa7-ff50-433a-d6fa-38abb7a6e7a9"
      },
      "execution_count": null,
      "outputs": [
        {
          "output_type": "stream",
          "name": "stdout",
          "text": [
            "Waaah waaah!\n"
          ]
        }
      ]
    },
    {
      "cell_type": "code",
      "source": [
        "#255\n",
        "class Human :\n",
        "  def __init__(self,name,age,sex) :\n",
        "    self.name = name\n",
        "    self.age = age\n",
        "    self.sex = sex\n",
        "\n",
        "areum = Human(\"Areum\",25,\"female\")"
      ],
      "metadata": {
        "id": "qRoe--LP7WLZ"
      },
      "execution_count": null,
      "outputs": []
    },
    {
      "cell_type": "code",
      "source": [
        "#256\n",
        "class Human :\n",
        "  def __init__(self,name,age,sex) :\n",
        "    self.name = name\n",
        "    self.age = age\n",
        "    self.sex = sex\n",
        "\n",
        "areum = Human(\"Areum\",25,\"female\")\n",
        "print(areum.age)"
      ],
      "metadata": {
        "colab": {
          "base_uri": "https://localhost:8080/"
        },
        "id": "d9SkAoGl8NFi",
        "outputId": "253255b8-f5d7-447e-d748-362296bef329"
      },
      "execution_count": null,
      "outputs": [
        {
          "output_type": "stream",
          "name": "stdout",
          "text": [
            "25\n"
          ]
        }
      ]
    },
    {
      "cell_type": "code",
      "source": [
        "#257\n",
        "class Human :\n",
        "  def __init__(self,name,age,sex) :\n",
        "    self.name = name\n",
        "    self.age = age\n",
        "    self.sex = sex\n",
        "\n",
        "  def who(self) :\n",
        "    print(\"name : {} / age : {} / sex : {}\".format(self.name, self.age, self.sex))\n",
        "\n",
        "areum = Human(\"Areum\",25,\"female\")\n",
        "areum.who()"
      ],
      "metadata": {
        "colab": {
          "base_uri": "https://localhost:8080/"
        },
        "id": "qJbIPou68-wC",
        "outputId": "e8360546-c7ea-4cc9-cd67-80f0096bef68"
      },
      "execution_count": null,
      "outputs": [
        {
          "output_type": "stream",
          "name": "stdout",
          "text": [
            "name : Areum / age : 25 / sex : female\n"
          ]
        }
      ]
    },
    {
      "cell_type": "code",
      "source": [
        "#258\n",
        "class Human :\n",
        "  def __init__ (self,name,age,sex) :\n",
        "    self.name = name\n",
        "    self.age = age\n",
        "    self.sex = sex\n",
        "\n",
        "  def who(self) :\n",
        "    print(\"name : {} / age : {} / sex : {}\".format(self.name, self.age, self.sex))\n",
        "\n",
        "  def setInfo(self,name,age,sex) :\n",
        "    self.name = name\n",
        "    self.age = age\n",
        "    self.sex = sex\n",
        "\n",
        "areum = Human(\"IDK\",0,\"IDK\")\n",
        "areum.who()\n",
        "\n",
        "areum.setInfo(\"Areum\",25,\"female\")\n",
        "areum.who()"
      ],
      "metadata": {
        "colab": {
          "base_uri": "https://localhost:8080/"
        },
        "id": "2wndofWn94wz",
        "outputId": "5c494771-8de9-4001-dda4-ea8290b8e2dc"
      },
      "execution_count": null,
      "outputs": [
        {
          "output_type": "stream",
          "name": "stdout",
          "text": [
            "name : IDK / age : 0 / sex : IDK\n",
            "name : Areum / age : 25 / sex : female\n"
          ]
        }
      ]
    },
    {
      "cell_type": "code",
      "source": [
        "#259\n",
        "class Human :\n",
        "    def __init__ (self,name,age,sex) :\n",
        "      self.name = name\n",
        "      self.age = age\n",
        "      self.sex = sex\n",
        "\n",
        "    def __del__(self) :\n",
        "      print(\"The only way to do great work is to love what you do.\")\n",
        "\n",
        "    def who(self) :\n",
        "      print(\"name : {} / age : {} / sex : {}\".format(self.name, self.age, self.sex))\n",
        "\n",
        "    def setInfo(self,name,age,sex) :\n",
        "      self.name = name\n",
        "      self.age = age\n",
        "      self.sex = sex\n",
        "\n",
        "areum = Human(\"Areum\",25,\"female\")\n",
        "del(areum)"
      ],
      "metadata": {
        "id": "bKYxNfBuAHB6",
        "colab": {
          "base_uri": "https://localhost:8080/"
        },
        "outputId": "5056cac3-82a3-447d-e3ff-0b526b226fa9"
      },
      "execution_count": null,
      "outputs": [
        {
          "output_type": "stream",
          "name": "stdout",
          "text": [
            "The only way to do great work is to love what you do.\n"
          ]
        }
      ]
    },
    {
      "cell_type": "code",
      "source": [
        "#260\n",
        "class OMG:\n",
        "    def print(self):\n",
        "        print(\"Oh my god\")\n",
        "\n",
        "myStock = OMG()\n",
        "myStock.print()"
      ],
      "metadata": {
        "id": "NiUQrJP3C0sZ",
        "colab": {
          "base_uri": "https://localhost:8080/"
        },
        "outputId": "6a602e60-53ab-422c-a8f0-e1a3eed65c81"
      },
      "execution_count": null,
      "outputs": [
        {
          "output_type": "stream",
          "name": "stdout",
          "text": [
            "Oh my god\n"
          ]
        }
      ]
    },
    {
      "cell_type": "code",
      "source": [
        "#261\n",
        "class Stock :\n",
        "  pass"
      ],
      "metadata": {
        "id": "hiUeb4tqVlFG"
      },
      "execution_count": null,
      "outputs": []
    },
    {
      "cell_type": "code",
      "source": [
        "#262\n",
        "class Stock :\n",
        "  def __init__(self,name,code) :\n",
        "    self.name = name\n",
        "    self.code = code\n",
        "\n",
        "Samsung = Stock(\"Samsung Electronics\",\"005930\")\n",
        "\n",
        "print(Samsung.name)\n",
        "print(Samsung.code)"
      ],
      "metadata": {
        "colab": {
          "base_uri": "https://localhost:8080/"
        },
        "id": "EM_AIANUYN61",
        "outputId": "7ca2d1f3-5ebe-4f3f-91ae-8cda8d6da8f0"
      },
      "execution_count": null,
      "outputs": [
        {
          "output_type": "stream",
          "name": "stdout",
          "text": [
            "SamsungElectronics\n",
            "005930\n"
          ]
        }
      ]
    },
    {
      "cell_type": "code",
      "source": [
        "#263\n",
        "class Stock :\n",
        "  def __init__(self,name,code) :\n",
        "    self.name = name\n",
        "    self.code = code\n",
        "\n",
        "  def set_name(self,name) :\n",
        "    self.name = name\n",
        "\n",
        "a = Stock(None,None)\n",
        "a.set_name(\"Samsung Electronics\")\n",
        "print(a.name)"
      ],
      "metadata": {
        "colab": {
          "base_uri": "https://localhost:8080/"
        },
        "id": "d75QscfMZqq0",
        "outputId": "cb1b3bc8-178c-415d-f62d-3bc4163e7135"
      },
      "execution_count": null,
      "outputs": [
        {
          "output_type": "stream",
          "name": "stdout",
          "text": [
            "Samsung Electronics\n"
          ]
        }
      ]
    },
    {
      "cell_type": "code",
      "source": [
        "#264\n",
        "class Stock :\n",
        "  def __init__(self,name,code) :\n",
        "    self.name = name\n",
        "    self.code = code\n",
        "\n",
        "  def set_code(self,code) :\n",
        "    self.code = code\n",
        "\n",
        "a = Stock(None,None)\n",
        "a.set_code(\"005930\")\n",
        "print(a.code)"
      ],
      "metadata": {
        "colab": {
          "base_uri": "https://localhost:8080/"
        },
        "id": "ZdF66WQ1bol9",
        "outputId": "06af48a0-3eea-4abe-9d86-e4435732fecf"
      },
      "execution_count": null,
      "outputs": [
        {
          "output_type": "stream",
          "name": "stdout",
          "text": [
            "005930\n"
          ]
        }
      ]
    },
    {
      "cell_type": "code",
      "source": [
        "#265\n",
        "class Stock :\n",
        "  def __init__(self,name,code) :\n",
        "    self.name = name\n",
        "    self.code = code\n",
        "\n",
        "  def set_name(self,name) :\n",
        "    self.name = name\n",
        "\n",
        "  def set_code(self,code) :\n",
        "    self.code = code\n",
        "\n",
        "  def get_name(self) :\n",
        "    return self.name\n",
        "\n",
        "  def get_code(self) :\n",
        "    return self.code\n",
        "\n",
        "Samsung = Stock(\"Samsung Electronics\",\"005930\")\n",
        "print(Samsung.name)\n",
        "print(Samsung.code)\n",
        "print(Samsung.get_name())\n",
        "print(Samsung.get_code())"
      ],
      "metadata": {
        "colab": {
          "base_uri": "https://localhost:8080/"
        },
        "id": "oztskZmfe9ND",
        "outputId": "59fb50cc-ae76-4515-fadb-eb2a7318fc3b"
      },
      "execution_count": null,
      "outputs": [
        {
          "output_type": "stream",
          "name": "stdout",
          "text": [
            "Samsung Electronics\n",
            "005930\n",
            "Samsung Electronics\n",
            "005930\n"
          ]
        }
      ]
    },
    {
      "cell_type": "code",
      "source": [
        "#266\n",
        "class Stock :\n",
        "  def __init__ (self,name,code,per,pbr,dividend_rate) :\n",
        "    self.name = name\n",
        "    self.code = code\n",
        "    self.per = per\n",
        "    self.pbr = pbr\n",
        "    self.rate = dividend_rate\n",
        "\n",
        "  def set_name(self,name) :\n",
        "    self.name = name\n",
        "\n",
        "  def set_code(self,code) :\n",
        "    self.code = code\n",
        "\n",
        "  def get_name(self) :\n",
        "    return self.name\n",
        "\n",
        "  def get_code(self) :\n",
        "    return self.code"
      ],
      "metadata": {
        "id": "btkRH4cgh-hT"
      },
      "execution_count": null,
      "outputs": []
    },
    {
      "cell_type": "code",
      "source": [
        "#267\n",
        "Samsung = Stock(\"Samsung Electronics\",\"005930\",15.79,1.33,2.83)\n",
        "Samsung.rate"
      ],
      "metadata": {
        "colab": {
          "base_uri": "https://localhost:8080/"
        },
        "id": "NjTiz_ZqkWCk",
        "outputId": "5ad3715d-5c06-4c06-a151-e818927f84e6"
      },
      "execution_count": null,
      "outputs": [
        {
          "output_type": "execute_result",
          "data": {
            "text/plain": [
              "2.83"
            ]
          },
          "metadata": {},
          "execution_count": 48
        }
      ]
    },
    {
      "cell_type": "code",
      "source": [
        "#268\n",
        "class Stock :\n",
        "  def __init__ (self,name,code,per,pbr,dividend) :\n",
        "    self.name = name\n",
        "    self.code = code\n",
        "    self.per = per\n",
        "    self.pbr = pbr\n",
        "    self.rate = dividend\n",
        "\n",
        "  def set_name(self,name) :\n",
        "    self.name = name\n",
        "\n",
        "  def set_code(self,code) :\n",
        "    self.code = code\n",
        "\n",
        "  def set_per(self,per) :\n",
        "    self.per = per\n",
        "\n",
        "  def set_pbr(self,pbr) :\n",
        "    self.pbr = pbr\n",
        "\n",
        "  def set_dividend(self,dividend) :\n",
        "    self.rate = dividend\n",
        "\n",
        "  def get_name(self) :\n",
        "    return self.name\n",
        "\n",
        "  def get_code(self) :\n",
        "    return self.code"
      ],
      "metadata": {
        "id": "E8HBBpGepZYv"
      },
      "execution_count": null,
      "outputs": []
    },
    {
      "cell_type": "code",
      "source": [
        "#269\n",
        "Samsung = Stock(\"Samsung Electronics\",\"005930\",15.79,1.33,2.83)\n",
        "Samsung.set_per(12.75)\n",
        "Samsung.per"
      ],
      "metadata": {
        "colab": {
          "base_uri": "https://localhost:8080/"
        },
        "id": "iHIzvZjAr_9G",
        "outputId": "883d7a00-b326-4bdb-8b0a-a4f3b2b8183e"
      },
      "execution_count": null,
      "outputs": [
        {
          "output_type": "execute_result",
          "data": {
            "text/plain": [
              "12.75"
            ]
          },
          "metadata": {},
          "execution_count": 51
        }
      ]
    },
    {
      "cell_type": "code",
      "source": [
        "#270\n",
        "issue = []\n",
        "\n",
        "Samsung = Stock(\"Samsung Electronics\", \"005930\", 15.79, 1.33, 2.83)\n",
        "Hyundai = Stock(\"Hyundai Motor\", \"005380\", 8.70, 0.35, 4.27)\n",
        "LGE = Stock(\"LGE\", \"066570\", 317.34, 0.69, 1.37)\n",
        "\n",
        "issue.append(Samsung)\n",
        "issue.append(Hyundai)\n",
        "issue.append(LGE)\n",
        "\n",
        "for i in issue :\n",
        "  print(i.code, i.per)"
      ],
      "metadata": {
        "colab": {
          "base_uri": "https://localhost:8080/"
        },
        "id": "sZl3_wmitr2e",
        "outputId": "3a9b2c60-c7e7-48e1-f957-190baf168608"
      },
      "execution_count": null,
      "outputs": [
        {
          "output_type": "stream",
          "name": "stdout",
          "text": [
            "005930 15.79\n",
            "005380 8.7\n",
            "066570 317.34\n"
          ]
        }
      ]
    },
    {
      "cell_type": "code",
      "source": [
        "#271\n",
        "import random as rd\n",
        "\n",
        "class Account :\n",
        "  def __init__ (self,name,balance) :\n",
        "    self.name = name\n",
        "    self.balance = balance\n",
        "    self.bank = \"SC bank\"\n",
        "\n",
        "    num1 = rd.randint(0,999)\n",
        "    num2 = rd.randint(0,99)\n",
        "    num3 = rd.randint(0,999999)\n",
        "\n",
        "    num1 = str(num1).zfill(3)\n",
        "    num2 = str(num2).zfill(2)\n",
        "    num3 = str(num3).zfill(6)\n",
        "    self.account_number = num1 + '-' + num2 + '-' + num3\n",
        "\n",
        "Doe = Account(\"John Doe\", 100)\n",
        "print(Doe.name)\n",
        "print(Doe.balance)\n",
        "print(Doe.bank)\n",
        "print(Doe.account_number)"
      ],
      "metadata": {
        "colab": {
          "base_uri": "https://localhost:8080/"
        },
        "id": "5rctLhsLawsn",
        "outputId": "1a56ea70-396d-4bf9-d1e5-34acd380e3fa"
      },
      "execution_count": null,
      "outputs": [
        {
          "output_type": "stream",
          "name": "stdout",
          "text": [
            "John Doe\n",
            "100\n",
            "SCbank\n",
            "193-15-539247\n"
          ]
        }
      ]
    },
    {
      "cell_type": "code",
      "source": [
        "#272\n",
        "import random as rd\n",
        "\n",
        "class Account :\n",
        "  account_count = 0\n",
        "\n",
        "  def __init__ (self,name,balance) :\n",
        "    self.name = name\n",
        "    self.balance = balance\n",
        "    self.bank = \"SC bank\"\n",
        "\n",
        "    num1 = rd.randint(0,999)\n",
        "    num2 = rd.randint(0,99)\n",
        "    num3 = rd.randint(0,999999)\n",
        "\n",
        "    num1 = str(num1).zfill(3)\n",
        "    num2 = str(num2).zfill(2)\n",
        "    num3 = str(num3).zfill(6)\n",
        "    self.account_number = num1 + '-' + num2 + '-' + num3\n",
        "\n",
        "    Account.account_count += 1\n",
        "\n",
        "JohnDoe = Account(\"John Doe\", 100)\n",
        "print(Account.account_count)\n",
        "JaneDoe = Account(\"Jane Doe\", 200)\n",
        "print(Account.account_count)"
      ],
      "metadata": {
        "colab": {
          "base_uri": "https://localhost:8080/"
        },
        "id": "OKzDSAhIlQ98",
        "outputId": "7d0fc76a-2f75-41b7-86a5-964f649bec77"
      },
      "execution_count": null,
      "outputs": [
        {
          "output_type": "stream",
          "name": "stdout",
          "text": [
            "1\n",
            "2\n"
          ]
        }
      ]
    },
    {
      "cell_type": "code",
      "source": [
        "#273\n",
        "import random as rd\n",
        "\n",
        "class Account :\n",
        "  account_count = 0\n",
        "\n",
        "  def __init__ (self,name,balance) :\n",
        "    self.name = name\n",
        "    self.balance = balance\n",
        "    self.bank = \"SC bank\"\n",
        "\n",
        "    num1 = rd.randint(0,999)\n",
        "    num2 = rd.randint(0,99)\n",
        "    num3 = rd.randint(0,999999)\n",
        "\n",
        "    num1 = str(num1).zfill(3)\n",
        "    num2 = str(num2).zfill(2)\n",
        "    num3 = str(num3).zfill(6)\n",
        "    self.account_number = num1 + '-' + num2 + '-' + num3\n",
        "\n",
        "    Account.account_count += 1\n",
        "\n",
        "  @classmethod\n",
        "  def get_account_num(cls):\n",
        "      print(cls.account_count)\n",
        "\n",
        "JohnDoe = Account(\"John Doe\", 100)\n",
        "JaneDoe = Account(\"Jane Doe\", 200)\n",
        "JohnDoe.get_account_num()"
      ],
      "metadata": {
        "colab": {
          "base_uri": "https://localhost:8080/"
        },
        "id": "TUcjjdrmm4FP",
        "outputId": "ff21cd49-e3fb-42b1-dbbf-1d0d768d82e4"
      },
      "execution_count": null,
      "outputs": [
        {
          "output_type": "stream",
          "name": "stdout",
          "text": [
            "2\n"
          ]
        }
      ]
    },
    {
      "cell_type": "code",
      "source": [
        "#274\n",
        "import random as rd\n",
        "\n",
        "class Account :\n",
        "  account_count = 0\n",
        "\n",
        "  def __init__ (self,name,balance) :\n",
        "    self.name = name\n",
        "    self.balance = balance\n",
        "    self.bank = \"SC bank\"\n",
        "\n",
        "    num1 = rd.randint(0,999)\n",
        "    num2 = rd.randint(0,99)\n",
        "    num3 = rd.randint(0,999999)\n",
        "\n",
        "    num1 = str(num1).zfill(3)\n",
        "    num2 = str(num2).zfill(2)\n",
        "    num3 = str(num3).zfill(6)\n",
        "    self.account_number = num1 + '-' + num2 + '-' + num3\n",
        "\n",
        "    Account.account_count += 1\n",
        "\n",
        "  @classmethod\n",
        "  def get_account_num(cls):\n",
        "      print(cls.account_count)\n",
        "\n",
        "  def deposit(self, amount):\n",
        "      if amount >= 1:\n",
        "          self.balance += amount"
      ],
      "metadata": {
        "id": "1QTo_icqyLBZ"
      },
      "execution_count": null,
      "outputs": []
    },
    {
      "cell_type": "code",
      "source": [
        "#275\n",
        "import random as rd\n",
        "\n",
        "class Account :\n",
        "  account_count = 0\n",
        "\n",
        "  def __init__ (self,name,balance) :\n",
        "    self.name = name\n",
        "    self.balance = balance\n",
        "    self.bank = \"SC bank\"\n",
        "\n",
        "    num1 = rd.randint(0,999)\n",
        "    num2 = rd.randint(0,99)\n",
        "    num3 = rd.randint(0,999999)\n",
        "\n",
        "    num1 = str(num1).zfill(3)\n",
        "    num2 = str(num2).zfill(2)\n",
        "    num3 = str(num3).zfill(6)\n",
        "    self.account_number = num1 + '-' + num2 + '-' + num3\n",
        "\n",
        "    Account.account_count += 1\n",
        "\n",
        "  @classmethod\n",
        "  def get_account_num(cls):\n",
        "      print(cls.account_count)\n",
        "\n",
        "  def deposit(self, amount):\n",
        "      if amount >= 1:\n",
        "          self.balance += amount\n",
        "\n",
        "  def withdraw(self, amount):\n",
        "      if self.balance > amount:\n",
        "          self.balance -= amount\n",
        "\n",
        "John = Account(\"John Doe\", 100)\n",
        "John.deposit(100)\n",
        "John.withdraw(90)\n",
        "print(John.balance)"
      ],
      "metadata": {
        "colab": {
          "base_uri": "https://localhost:8080/"
        },
        "id": "p4uoOFFi1zQn",
        "outputId": "1ebaf71c-91d0-457f-fa98-da8f1deca7ca"
      },
      "execution_count": null,
      "outputs": [
        {
          "output_type": "stream",
          "name": "stdout",
          "text": [
            "110\n"
          ]
        }
      ]
    },
    {
      "cell_type": "code",
      "source": [
        "#276\n",
        "import random as rd\n",
        "\n",
        "class Account :\n",
        "  account_count = 0\n",
        "\n",
        "  def __init__ (self,name,balance) :\n",
        "    self.name = name\n",
        "    self.balance = balance\n",
        "    self.bank = \"SC bank\"\n",
        "\n",
        "    num1 = rd.randint(0,999)\n",
        "    num2 = rd.randint(0,99)\n",
        "    num3 = rd.randint(0,999999)\n",
        "\n",
        "    num1 = str(num1).zfill(3)\n",
        "    num2 = str(num2).zfill(2)\n",
        "    num3 = str(num3).zfill(6)\n",
        "    self.account_number = num1 + '-' + num2 + '-' + num3\n",
        "\n",
        "    Account.account_count += 1\n",
        "\n",
        "  @classmethod\n",
        "  def get_account_num(cls):\n",
        "      print(cls.account_count)\n",
        "\n",
        "  def deposit(self, amount):\n",
        "      if amount >= 1:\n",
        "          self.balance += amount\n",
        "\n",
        "  def withdraw(self, amount):\n",
        "      if self.balance > amount:\n",
        "          self.balance -= amount\n",
        "\n",
        "  def display_info(self):\n",
        "      print(\"Bank name :\", self.bank)\n",
        "      print(\"Name :\", self.name)\n",
        "      print(\"Account Number :\", self.account_number)\n",
        "      print(\"Balance :\", self.balance)\n",
        "\n",
        "p = Account(\"Python\", 10000)\n",
        "p.display_info()"
      ],
      "metadata": {
        "colab": {
          "base_uri": "https://localhost:8080/"
        },
        "id": "0YfPXrVV6ovn",
        "outputId": "b3c97b6a-438c-4949-d66a-4d425d1331a3"
      },
      "execution_count": null,
      "outputs": [
        {
          "output_type": "stream",
          "name": "stdout",
          "text": [
            "Bank name : SC bank\n",
            "Name : Python\n",
            "Account Number : 577-53-410733\n",
            "Balance : 10,000\n"
          ]
        }
      ]
    },
    {
      "cell_type": "code",
      "source": [
        "#277\n",
        "import random as rd\n",
        "\n",
        "class Account :\n",
        "  account_count = 0\n",
        "\n",
        "  def __init__ (self,name,balance) :\n",
        "    self.deposit_count = 0\n",
        "\n",
        "    self.name = name\n",
        "    self.balance = balance\n",
        "    self.bank = \"SC bank\"\n",
        "\n",
        "    num1 = rd.randint(0,999)\n",
        "    num2 = rd.randint(0,99)\n",
        "    num3 = rd.randint(0,999999)\n",
        "\n",
        "    num1 = str(num1).zfill(3)\n",
        "    num2 = str(num2).zfill(2)\n",
        "    num3 = str(num3).zfill(6)\n",
        "    self.account_number = num1 + '-' + num2 + '-' + num3\n",
        "\n",
        "    Account.account_count += 1\n",
        "\n",
        "  @classmethod\n",
        "  def get_account_num(cls):\n",
        "      print(cls.account_count)\n",
        "\n",
        "  def deposit(self, amount):\n",
        "      if amount >= 1:\n",
        "          self.balance += amount\n",
        "\n",
        "          self.deposit_count += 1\n",
        "          if self.deposit_count % 5 == 0:\n",
        "            self.balance = (self.balance * 1.01)\n",
        "\n",
        "  def withdraw(self, amount):\n",
        "      if self.balance > amount:\n",
        "          self.balance -= amount\n",
        "\n",
        "  def display_info(self):\n",
        "      print(\"Bank name :\", self.bank)\n",
        "      print(\"Name :\", self.name)\n",
        "      print(\"Account Number :\", self.account_number)\n",
        "      print(\"Balance :\", self.balance)\n",
        "\n",
        "p = Account(\"Python\", 10000)\n",
        "p.deposit(10000)\n",
        "p.deposit(10000)\n",
        "p.deposit(10000)\n",
        "p.deposit(5000)\n",
        "p.deposit(5000)\n",
        "print(p.balance)"
      ],
      "metadata": {
        "colab": {
          "base_uri": "https://localhost:8080/"
        },
        "id": "xoJWdDAG82Ul",
        "outputId": "568ba002-c606-467c-df1a-43e165f13f11"
      },
      "execution_count": null,
      "outputs": [
        {
          "output_type": "stream",
          "name": "stdout",
          "text": [
            "50500.0\n"
          ]
        }
      ]
    },
    {
      "cell_type": "code",
      "source": [
        "#278\n",
        "import random as rd\n",
        "\n",
        "class Account :\n",
        "  account_count = 0\n",
        "\n",
        "  def __init__ (self,name,balance) :\n",
        "    self.deposit_count = 0\n",
        "\n",
        "    self.name = name\n",
        "    self.balance = balance\n",
        "    self.bank = \"SC bank\"\n",
        "\n",
        "    num1 = rd.randint(0,999)\n",
        "    num2 = rd.randint(0,99)\n",
        "    num3 = rd.randint(0,999999)\n",
        "\n",
        "    num1 = str(num1).zfill(3)\n",
        "    num2 = str(num2).zfill(2)\n",
        "    num3 = str(num3).zfill(6)\n",
        "    self.account_number = num1 + '-' + num2 + '-' + num3\n",
        "\n",
        "    Account.account_count += 1\n",
        "\n",
        "  @classmethod\n",
        "  def get_account_num(cls):\n",
        "      print(cls.account_count)\n",
        "\n",
        "  def deposit(self, amount):\n",
        "      if amount >= 1:\n",
        "          self.balance += amount\n",
        "\n",
        "          self.deposit_count += 1\n",
        "          if self.deposit_count % 5 == 0:\n",
        "            self.balance = (self.balance * 1.01)\n",
        "\n",
        "  def withdraw(self, amount):\n",
        "      if self.balance > amount:\n",
        "          self.balance -= amount\n",
        "\n",
        "  def display_info(self):\n",
        "      print(\"Bank name :\", self.bank)\n",
        "      print(\"Name :\", self.name)\n",
        "      print(\"Account Number :\", self.account_number)\n",
        "      print(\"Balance :\", self.balance)\n",
        "\n",
        "data = []\n",
        "k = Account(\"KIM\", 10000000)\n",
        "l = Account(\"LEE\", 10000)\n",
        "p = Account(\"PARK\", 10000)\n",
        "\n",
        "data.append(k)\n",
        "data.append(l)\n",
        "data.append(p)\n",
        "\n",
        "print(data)"
      ],
      "metadata": {
        "colab": {
          "base_uri": "https://localhost:8080/"
        },
        "id": "Pl5YW3oe9tUF",
        "outputId": "f5928266-b05b-48b3-91bf-d0cec5ede5d3"
      },
      "execution_count": null,
      "outputs": [
        {
          "output_type": "stream",
          "name": "stdout",
          "text": [
            "[<__main__.Account object at 0x7b358dc9d5d0>, <__main__.Account object at 0x7b358d25b2d0>, <__main__.Account object at 0x7b358dddb550>]\n"
          ]
        }
      ]
    },
    {
      "cell_type": "code",
      "source": [
        "#279\n",
        "import random\n",
        "\n",
        "\n",
        "class Account:\n",
        "    # class variable\n",
        "    account_count = 0\n",
        "\n",
        "    def __init__(self, name, balance):\n",
        "        self.deposit_count = 0\n",
        "\n",
        "        self.name = name\n",
        "        self.balance = balance\n",
        "        self.bank = \"SC bank\"\n",
        "\n",
        "        num1 = random.randint(0, 999)\n",
        "        num2 = random.randint(0, 99)\n",
        "        num3 = random.randint(0, 999999)\n",
        "\n",
        "        num1 = str(num1).zfill(3)\n",
        "        num2 = str(num2).zfill(2)\n",
        "        num3 = str(num3).zfill(6)\n",
        "        self.account_number = num1 + '-' + num2 + '-' + num3\n",
        "        Account.account_count += 1\n",
        "\n",
        "    @classmethod\n",
        "    def get_account_num(cls):\n",
        "        print(cls.account_count)\n",
        "\n",
        "    def deposit(self, amount):\n",
        "        if amount >= 1:\n",
        "            self.balance += amount\n",
        "\n",
        "            self.deposit_count += 1\n",
        "            if self.deposit_count % 5 == 0:\n",
        "                self.balance = (self.balance * 1.01)\n",
        "\n",
        "\n",
        "    def withdraw(self, amount):\n",
        "        if self.balance > amount:\n",
        "            self.balance -= amount\n",
        "\n",
        "    def display_info(self):\n",
        "        print(\"Bank Name :\", self.bank)\n",
        "        print(\"Name :\", self.name)\n",
        "        print(\"Account Number :\", self.account_number)\n",
        "        print(\"Balance :\", self.balance)\n",
        "\n",
        "data = []\n",
        "k = Account(\"KIM\", 10000000)\n",
        "l = Account(\"LEE\", 10000)\n",
        "p = Account(\"PARK\", 10000)\n",
        "data.append(k)\n",
        "data.append(l)\n",
        "data.append(p)\n",
        "\n",
        "for c in data:\n",
        "    if c.balance >= 1000000:\n",
        "        c.display_info()"
      ],
      "metadata": {
        "colab": {
          "base_uri": "https://localhost:8080/"
        },
        "id": "3Nrg1tso_hfS",
        "outputId": "772d1899-13bb-4b56-8545-de1853f90720"
      },
      "execution_count": null,
      "outputs": [
        {
          "output_type": "stream",
          "name": "stdout",
          "text": [
            "Bank Name : SC bank\n",
            "Name : KIM\n",
            "Account Number : 788-69-866910\n",
            "Balance : 10000000\n"
          ]
        }
      ]
    },
    {
      "cell_type": "code",
      "source": [
        "#280\n",
        "import random\n",
        "\n",
        "\n",
        "class Account:\n",
        "    account_count = 0\n",
        "\n",
        "    def __init__(self, name, balance):\n",
        "        self.deposit_count = 0\n",
        "        self.deposit_log = []\n",
        "        self.withdraw_log = []\n",
        "\n",
        "        self.name = name\n",
        "        self.balance = balance\n",
        "        self.bank = \"SC은행\"\n",
        "\n",
        "        num1 = random.randint(0, 999)\n",
        "        num2 = random.randint(0, 99)\n",
        "        num3 = random.randint(0, 999999)\n",
        "\n",
        "        num1 = str(num1).zfill(3)\n",
        "        num2 = str(num2).zfill(2)\n",
        "        num3 = str(num3).zfill(6)\n",
        "        self.account_number = num1 + '-' + num2 + '-' + num3\n",
        "        Account.account_count += 1\n",
        "\n",
        "    @classmethod\n",
        "    def get_account_num(cls):\n",
        "        print(cls.account_count)\n",
        "\n",
        "    def deposit(self, amount):\n",
        "        if amount >= 1:\n",
        "            self.deposit_log.append(amount)\n",
        "            self.balance += amount\n",
        "\n",
        "            self.deposit_count += 1\n",
        "            if self.deposit_count % 5 == 0:\n",
        "                self.balance = (self.balance * 1.01)\n",
        "\n",
        "\n",
        "    def withdraw(self, amount):\n",
        "        if self.balance > amount:\n",
        "            self.withdraw_log.append(amount)\n",
        "            self.balance -= amount\n",
        "\n",
        "    def display_info(self):\n",
        "        print(\"Bank Name :\", self.bank)\n",
        "        print(\"Name :\", self.name)\n",
        "        print(\"Account Number :\", self.account_number)\n",
        "        print(\"Balance :\", self.balance)\n",
        "\n",
        "    def withdraw_history(self):\n",
        "        for amount in self.withdraw_log:\n",
        "            print(amount)\n",
        "\n",
        "    def deposit_history(self):\n",
        "        for amount in self.deposit_log:\n",
        "            print(amount)\n",
        "\n",
        "\n",
        "k = Account(\"Kim\", 1000)\n",
        "k.deposit(100)\n",
        "k.deposit(200)\n",
        "k.deposit(300)\n",
        "k.deposit_history()\n",
        "\n",
        "k.withdraw(100)\n",
        "k.withdraw(200)\n",
        "k.withdraw_history()"
      ],
      "metadata": {
        "colab": {
          "base_uri": "https://localhost:8080/"
        },
        "id": "_MvPfrluBFqj",
        "outputId": "cc88435b-fcfb-48ec-878f-c9f1853f7d3f"
      },
      "execution_count": 1,
      "outputs": [
        {
          "output_type": "stream",
          "name": "stdout",
          "text": [
            "100\n",
            "200\n",
            "300\n",
            "100\n",
            "200\n"
          ]
        }
      ]
    },
    {
      "cell_type": "code",
      "source": [
        "#281\n",
        "class vehicle :\n",
        "    def __init__(self, wheel, price) :\n",
        "        self.wheel = wheel\n",
        "        self.price = price\n",
        "\n",
        "\n",
        "car = vehicle(2, 1000)\n",
        "print(car.wheel)\n",
        "print(car.price)"
      ],
      "metadata": {
        "colab": {
          "base_uri": "https://localhost:8080/"
        },
        "id": "ulrIcDtFXhoR",
        "outputId": "01a50491-509a-4302-a3d4-f2c95e456cee"
      },
      "execution_count": 2,
      "outputs": [
        {
          "output_type": "stream",
          "name": "stdout",
          "text": [
            "2\n",
            "1000\n"
          ]
        }
      ]
    },
    {
      "cell_type": "code",
      "source": [
        "#282\n",
        "class vehicle :\n",
        "    def __init__(self, wheel, price) :\n",
        "        self.wheel = wheel\n",
        "        self.price = price\n",
        "\n",
        "class bike(vehicle) :\n",
        "  pass"
      ],
      "metadata": {
        "id": "JkWwvjX1YFrQ"
      },
      "execution_count": 3,
      "outputs": []
    },
    {
      "cell_type": "code",
      "source": [
        "#283\n",
        "class vehicle :\n",
        "    def __init__(self, wheel, price) :\n",
        "        self.wheel = wheel\n",
        "        self.price = price\n",
        "\n",
        "class bike(vehicle) :\n",
        "    def __init__(self, wheel, price) :\n",
        "        self.wheel = wheel\n",
        "        self.price = price\n",
        "\n",
        "bicycle = bike(2, 100)\n",
        "print(bicycle.price)"
      ],
      "metadata": {
        "colab": {
          "base_uri": "https://localhost:8080/"
        },
        "id": "c5t8P048YXWg",
        "outputId": "04c4b2d5-4ae6-4c63-a4f4-d3812f24a034"
      },
      "execution_count": 4,
      "outputs": [
        {
          "output_type": "stream",
          "name": "stdout",
          "text": [
            "100\n"
          ]
        }
      ]
    },
    {
      "cell_type": "code",
      "source": [
        "#284\n",
        "class vehicle :\n",
        "    def __init__(self, wheel, price) :\n",
        "        self.wheel = wheel\n",
        "        self.price = price\n",
        "\n",
        "\n",
        "class bike(vehicle) :\n",
        "    def __init__(self, wheel, price, powertrain) :\n",
        "        super().__init__(wheel, price)\n",
        "        self.powertrain = powertrain\n",
        "\n",
        "bicycle = bike(2, 100, \"Shimano\")\n",
        "print(bicycle.powertrain)\n",
        "print(bicycle.wheel)"
      ],
      "metadata": {
        "colab": {
          "base_uri": "https://localhost:8080/"
        },
        "id": "r4FTF7otY6XA",
        "outputId": "27fa1f95-4e96-4ef9-9e41-2d7692ece2ae"
      },
      "execution_count": 6,
      "outputs": [
        {
          "output_type": "stream",
          "name": "stdout",
          "text": [
            "Shimano\n",
            "2\n"
          ]
        }
      ]
    },
    {
      "cell_type": "code",
      "source": [
        "#285\n",
        "class vehicle :\n",
        "    def __init__(self, wheel, price) :\n",
        "        self.wheel = wheel\n",
        "        self.price = price\n",
        "\n",
        "class automobile(vehicle) :\n",
        "    def __init__(self, wheel, price) :\n",
        "        super().__init__(wheel, price)\n",
        "\n",
        "    def info(self) :\n",
        "        print(\"Number of wheels :\", self.wheel)\n",
        "        print(\"Price :\", self.price)\n",
        "\n",
        "car = automobile(4, 1000)\n",
        "car.info()"
      ],
      "metadata": {
        "colab": {
          "base_uri": "https://localhost:8080/"
        },
        "id": "xcbXn1tRZuXY",
        "outputId": "15cc853a-546f-4056-e9c2-8b8c10c9aa8c"
      },
      "execution_count": 8,
      "outputs": [
        {
          "output_type": "stream",
          "name": "stdout",
          "text": [
            "Number of wheels : 4\n",
            "Price : 1000\n"
          ]
        }
      ]
    },
    {
      "cell_type": "code",
      "source": [
        "#286\n",
        "class vehicle :\n",
        "    def __init__(self, wheel, price) :\n",
        "        self.wheel = wheel\n",
        "        self.price = price\n",
        "\n",
        "    def info(self) :\n",
        "        print(\"Number of wheels :\", self.wheel)\n",
        "        print(\"Price :\", self.price)\n",
        "\n",
        "class automobile(vehicle) :\n",
        "    def __init__(self, wheel, price) :\n",
        "        super().__init__(wheel, price)\n",
        "\n",
        "class bike(vehicle) :\n",
        "    def __init__(self, wheel, price, powertrain) :\n",
        "        super().__init__(wheel, price)\n",
        "        self.powertrain = powertrain\n",
        "\n",
        "bicycle = bike(2, 100, \"Shimano\")\n",
        "bicycle.info()"
      ],
      "metadata": {
        "colab": {
          "base_uri": "https://localhost:8080/"
        },
        "id": "CFEDt6Dxaz63",
        "outputId": "50291bbb-64fb-44f4-f13a-0876a222876c"
      },
      "execution_count": 9,
      "outputs": [
        {
          "output_type": "stream",
          "name": "stdout",
          "text": [
            "Number of wheels : 2\n",
            "Price : 100\n"
          ]
        }
      ]
    },
    {
      "cell_type": "code",
      "source": [
        "#287\n",
        "class vehicle:\n",
        "    def __init__(self, wheel, price) :\n",
        "        self.wheel = wheel\n",
        "        self.price = price\n",
        "\n",
        "    def info(self) :\n",
        "        print(\"Number of wheels :\", self.wheel)\n",
        "        print(\"Price :\", self.price)\n",
        "\n",
        "class automobile(vehicle) :\n",
        "    def __init__(self, wheel, price):\n",
        "        super().__init__(wheel, price)\n",
        "\n",
        "class bike(vehicle) :\n",
        "    def __init__(self, wheel, price, powertrain) :\n",
        "        super().__init__(wheel, price)\n",
        "        self.powertrain = powertrain\n",
        "\n",
        "    def info(self) :\n",
        "        super().info()\n",
        "        print(\"Powertrain :\", self.powertrain)\n",
        "\n",
        "bicycle = bike(2, 100, \"Shimano\")\n",
        "bicycle.info()"
      ],
      "metadata": {
        "colab": {
          "base_uri": "https://localhost:8080/"
        },
        "id": "kFcbcq7Udp8o",
        "outputId": "a1bea42a-f407-484c-edce-2a83c7ac33df"
      },
      "execution_count": 12,
      "outputs": [
        {
          "output_type": "stream",
          "name": "stdout",
          "text": [
            "Number of wheels : 2\n",
            "Price : 100\n",
            "Powertrain : Shimano\n"
          ]
        }
      ]
    },
    {
      "cell_type": "code",
      "source": [
        "#288\n",
        "class parent :\n",
        "    def call(self) :\n",
        "        print(\"parent call\")\n",
        "\n",
        "class child(parent):\n",
        "    def call(self):\n",
        "        print(\"child call\")\n",
        "\n",
        "\n",
        "I = child()\n",
        "I.call()"
      ],
      "metadata": {
        "colab": {
          "base_uri": "https://localhost:8080/"
        },
        "id": "fGQvrkIBegq0",
        "outputId": "7b6d3df2-0404-482b-fae0-ed00f6cca6ba"
      },
      "execution_count": 13,
      "outputs": [
        {
          "output_type": "stream",
          "name": "stdout",
          "text": [
            "child call\n"
          ]
        }
      ]
    },
    {
      "cell_type": "code",
      "source": [
        "#289\n",
        "class parent :\n",
        "    def __init__(self) :\n",
        "        print(\"parent initialization\")\n",
        "\n",
        "class child(parent) :\n",
        "    def __init__(self) :\n",
        "        print(\"child initialization\")\n",
        "\n",
        "I = child()"
      ],
      "metadata": {
        "colab": {
          "base_uri": "https://localhost:8080/"
        },
        "id": "HWm-eEm4fX0d",
        "outputId": "0359f8b2-0f87-4bd8-f1dd-9adb5015afd5"
      },
      "execution_count": 14,
      "outputs": [
        {
          "output_type": "stream",
          "name": "stdout",
          "text": [
            "child initialization\n"
          ]
        }
      ]
    },
    {
      "cell_type": "code",
      "source": [
        "#290\n",
        "class parent :\n",
        "    def __init__(self) :\n",
        "        print(\"parent initialization\")\n",
        "\n",
        "class child(parent) :\n",
        "    def __init__(self) :\n",
        "        print(\"child initialization\")\n",
        "        super().__init__()\n",
        "\n",
        "I = child()"
      ],
      "metadata": {
        "colab": {
          "base_uri": "https://localhost:8080/"
        },
        "id": "9Rrd3ygufvul",
        "outputId": "8cbc4979-5aee-43c6-e969-308ace8ac835"
      },
      "execution_count": 15,
      "outputs": [
        {
          "output_type": "stream",
          "name": "stdout",
          "text": [
            "child initialization\n",
            "parent initialization\n"
          ]
        }
      ]
    },
    {
      "cell_type": "code",
      "source": [
        "#291\n",
        "f = open(\"/7120/buy_stocks1.txt\", mode=\"wt\", encoding=\"utf-8\")\n",
        "f.write(\"005930\\n\")\n",
        "f.write(\"005380\\n\")\n",
        "f.write(\"035420\")\n",
        "f.close()"
      ],
      "metadata": {
        "id": "2qujOKNNf9oN"
      },
      "execution_count": 17,
      "outputs": []
    },
    {
      "cell_type": "code",
      "source": [
        "#292\n",
        "f = open(\"/7120/buy_stocks2.txt\", mode=\"wt\", encoding=\"utf-8\")\n",
        "f.write(\"005930 삼성전자\\n\")\n",
        "f.write(\"005380 현대차\\n\")\n",
        "f.write(\"035420 NAVER\\n\")\n",
        "f.close()"
      ],
      "metadata": {
        "id": "lrauAtvZhIgi"
      },
      "execution_count": 18,
      "outputs": []
    },
    {
      "cell_type": "code",
      "source": [
        "#293\n",
        "import csv\n",
        "\n",
        "f = open(\"/7120/buy_stocks.csv\", mode=\"wt\", encoding=\"cp949\", newline='')\n",
        "writer = csv.writer(f)\n",
        "writer.writerow([\"종목명\", \"종목코드\", \"PER\"])\n",
        "writer.writerow([\"삼성전자\", \"005930\", 15.59])\n",
        "writer.writerow([\"NAVER\", \"035420\", 55.82])\n",
        "f.close()"
      ],
      "metadata": {
        "id": "Oej8w3GwhVKs"
      },
      "execution_count": 19,
      "outputs": []
    },
    {
      "cell_type": "code",
      "source": [
        "#294\n",
        "f = open(\"/7120/buy_stocks1.txt\", encoding=\"utf-8\")\n",
        "lines = f.readlines()\n",
        "\n",
        "codes = []\n",
        "for line in lines:\n",
        "    code = line.strip()\n",
        "    codes.append(code)\n",
        "\n",
        "print(codes)\n",
        "f.close()"
      ],
      "metadata": {
        "colab": {
          "base_uri": "https://localhost:8080/"
        },
        "id": "6QRq5l6phm6r",
        "outputId": "0bc8fe1c-701c-4d36-a74d-ea6b638da1a3"
      },
      "execution_count": 20,
      "outputs": [
        {
          "output_type": "stream",
          "name": "stdout",
          "text": [
            "['005930', '005380', '035420']\n"
          ]
        }
      ]
    },
    {
      "cell_type": "code",
      "source": [
        "#295\n",
        "f = open(\"/7120/buy_stocks2.txt\", encoding=\"utf-8\")\n",
        "lines = f.readlines()\n",
        "\n",
        "data = {}\n",
        "for line in lines:\n",
        "    line = line.strip()\n",
        "    k, v = line.split()\n",
        "    data[k] = v\n",
        "\n",
        "print(data)\n",
        "f.close()"
      ],
      "metadata": {
        "colab": {
          "base_uri": "https://localhost:8080/"
        },
        "id": "BD2iNMCJhz9-",
        "outputId": "428dfd01-5d0a-4a74-c7cd-c2be9c00554b"
      },
      "execution_count": 21,
      "outputs": [
        {
          "output_type": "stream",
          "name": "stdout",
          "text": [
            "{'005930': '삼성전자', '005380': '현대차', '035420': 'NAVER'}\n"
          ]
        }
      ]
    },
    {
      "cell_type": "code",
      "source": [
        "#296\n",
        "per = [\"10.31\", \"\", \"8.00\"]\n",
        "\n",
        "for i in per:\n",
        "    try:\n",
        "        print(float(i))\n",
        "    except:\n",
        "        print(0)"
      ],
      "metadata": {
        "colab": {
          "base_uri": "https://localhost:8080/"
        },
        "id": "b_3HsqEah-Cq",
        "outputId": "172da2f0-3625-447e-e7eb-06db58c492b8"
      },
      "execution_count": 22,
      "outputs": [
        {
          "output_type": "stream",
          "name": "stdout",
          "text": [
            "10.31\n",
            "0\n",
            "8.0\n"
          ]
        }
      ]
    },
    {
      "cell_type": "code",
      "source": [
        "#297\n",
        "per = [\"10.31\", \"\", \"8.00\"]\n",
        "new_per = []\n",
        "\n",
        "for i in per:\n",
        "    try:\n",
        "        v = float(i)\n",
        "    except:\n",
        "        v = 0\n",
        "    new_per.append(v)\n",
        "\n",
        "print(new_per)"
      ],
      "metadata": {
        "colab": {
          "base_uri": "https://localhost:8080/"
        },
        "id": "mnuitslbiCHy",
        "outputId": "9bc3272b-4232-4dc2-8fbc-99725321c38f"
      },
      "execution_count": 23,
      "outputs": [
        {
          "output_type": "stream",
          "name": "stdout",
          "text": [
            "[10.31, 0, 8.0]\n"
          ]
        }
      ]
    },
    {
      "cell_type": "code",
      "source": [
        "#298\n",
        "try:\n",
        "    b = 3 / 0\n",
        "except ZeroDivisionError:\n",
        "    print(\"You can't divide by 0.\")"
      ],
      "metadata": {
        "colab": {
          "base_uri": "https://localhost:8080/"
        },
        "id": "EfpGzCahiEvb",
        "outputId": "2ae7ff5e-56c5-42b4-f2c9-a58395aee1a1"
      },
      "execution_count": 25,
      "outputs": [
        {
          "output_type": "stream",
          "name": "stdout",
          "text": [
            "You can't divide by 0.\n"
          ]
        }
      ]
    },
    {
      "cell_type": "code",
      "source": [
        "#299\n",
        "data = [1, 2, 3]\n",
        "\n",
        "for i in range(5):\n",
        "    try:\n",
        "        print(data[i])\n",
        "    except IndexError as e:\n",
        "        print(e)"
      ],
      "metadata": {
        "colab": {
          "base_uri": "https://localhost:8080/"
        },
        "id": "B1BYy8MciTYz",
        "outputId": "a2c66b0a-2952-4bff-d0e6-0848a13b521f"
      },
      "execution_count": 26,
      "outputs": [
        {
          "output_type": "stream",
          "name": "stdout",
          "text": [
            "1\n",
            "2\n",
            "3\n",
            "list index out of range\n",
            "list index out of range\n"
          ]
        }
      ]
    },
    {
      "cell_type": "code",
      "source": [
        "#300\n",
        "per = [\"10.31\", \"\", \"8.00\"]\n",
        "\n",
        "for i in per:\n",
        "    try:\n",
        "        print(float(i))\n",
        "    except:\n",
        "        print(0)\n",
        "    else:\n",
        "        print(\"clean data\")\n",
        "    finally:\n",
        "        print(\"Conversion complete\")"
      ],
      "metadata": {
        "colab": {
          "base_uri": "https://localhost:8080/"
        },
        "id": "4Qw6Dn8IiVjq",
        "outputId": "5dd1ca36-46e3-4bbd-a465-b70831566d0f"
      },
      "execution_count": 27,
      "outputs": [
        {
          "output_type": "stream",
          "name": "stdout",
          "text": [
            "10.31\n",
            "clean data\n",
            "Conversion complete\n",
            "0\n",
            "Conversion complete\n",
            "8.0\n",
            "clean data\n",
            "Conversion complete\n"
          ]
        }
      ]
    }
  ]
}